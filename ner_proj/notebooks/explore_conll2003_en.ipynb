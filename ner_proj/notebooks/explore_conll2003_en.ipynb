{
  "nbformat": 4,
  "nbformat_minor": 0,
  "metadata": {
    "colab": {
      "name": "explore_conll2003_en.ipynb",
      "provenance": []
    },
    "kernelspec": {
      "name": "python3",
      "display_name": "Python 3"
    }
  },
  "cells": [
    {
      "cell_type": "markdown",
      "metadata": {
        "id": "jv9iXJ5Z8jar"
      },
      "source": [
        "## Main questions worth answering"
      ]
    },
    {
      "cell_type": "markdown",
      "metadata": {
        "id": "aqtQG1je8rqL"
      },
      "source": [
        "- Make sure that there is no overlap between examples in train, valid and test\n",
        "- Check whether the sets are well ballanced - enough examples per lable\n",
        "- Check whether examples for valid and test sets were chosen at random and have % of examples per entity similar to one in train set\n",
        "- Check that there are enough samples in valid set and in test set\n",
        "- Check whether there are major tockenization problems"
      ]
    },
    {
      "cell_type": "markdown",
      "metadata": {
        "id": "dTLnpfUZ9t0z"
      },
      "source": [
        "# Install libraries for data exploration"
      ]
    },
    {
      "cell_type": "markdown",
      "metadata": {
        "id": "h9_g0lcR9rxq"
      },
      "source": [
        "Whether we decide to use Spacy for training or not, Spacy is usefull for data exploration."
      ]
    },
    {
      "cell_type": "code",
      "metadata": {
        "id": "NXVlMKUX-C03",
        "outputId": "f8680ed7-d656-4c30-e9cf-d119cfc8ece7",
        "colab": {
          "base_uri": "https://localhost:8080/",
          "height": 373
        }
      },
      "source": [
        "!pip install spacy==v2.2.4"
      ],
      "execution_count": 1,
      "outputs": [
        {
          "output_type": "stream",
          "text": [
            "Requirement already satisfied: spacy==v2.2.4 in /usr/local/lib/python3.6/dist-packages (2.2.4)\n",
            "Requirement already satisfied: requests<3.0.0,>=2.13.0 in /usr/local/lib/python3.6/dist-packages (from spacy==v2.2.4) (2.23.0)\n",
            "Requirement already satisfied: setuptools in /usr/local/lib/python3.6/dist-packages (from spacy==v2.2.4) (50.3.0)\n",
            "Requirement already satisfied: blis<0.5.0,>=0.4.0 in /usr/local/lib/python3.6/dist-packages (from spacy==v2.2.4) (0.4.1)\n",
            "Requirement already satisfied: numpy>=1.15.0 in /usr/local/lib/python3.6/dist-packages (from spacy==v2.2.4) (1.18.5)\n",
            "Requirement already satisfied: preshed<3.1.0,>=3.0.2 in /usr/local/lib/python3.6/dist-packages (from spacy==v2.2.4) (3.0.2)\n",
            "Requirement already satisfied: cymem<2.1.0,>=2.0.2 in /usr/local/lib/python3.6/dist-packages (from spacy==v2.2.4) (2.0.3)\n",
            "Requirement already satisfied: thinc==7.4.0 in /usr/local/lib/python3.6/dist-packages (from spacy==v2.2.4) (7.4.0)\n",
            "Requirement already satisfied: plac<1.2.0,>=0.9.6 in /usr/local/lib/python3.6/dist-packages (from spacy==v2.2.4) (1.1.3)\n",
            "Requirement already satisfied: wasabi<1.1.0,>=0.4.0 in /usr/local/lib/python3.6/dist-packages (from spacy==v2.2.4) (0.8.0)\n",
            "Requirement already satisfied: catalogue<1.1.0,>=0.0.7 in /usr/local/lib/python3.6/dist-packages (from spacy==v2.2.4) (1.0.0)\n",
            "Requirement already satisfied: tqdm<5.0.0,>=4.38.0 in /usr/local/lib/python3.6/dist-packages (from spacy==v2.2.4) (4.41.1)\n",
            "Requirement already satisfied: murmurhash<1.1.0,>=0.28.0 in /usr/local/lib/python3.6/dist-packages (from spacy==v2.2.4) (1.0.2)\n",
            "Requirement already satisfied: srsly<1.1.0,>=1.0.2 in /usr/local/lib/python3.6/dist-packages (from spacy==v2.2.4) (1.0.2)\n",
            "Requirement already satisfied: urllib3!=1.25.0,!=1.25.1,<1.26,>=1.21.1 in /usr/local/lib/python3.6/dist-packages (from requests<3.0.0,>=2.13.0->spacy==v2.2.4) (1.24.3)\n",
            "Requirement already satisfied: idna<3,>=2.5 in /usr/local/lib/python3.6/dist-packages (from requests<3.0.0,>=2.13.0->spacy==v2.2.4) (2.10)\n",
            "Requirement already satisfied: chardet<4,>=3.0.2 in /usr/local/lib/python3.6/dist-packages (from requests<3.0.0,>=2.13.0->spacy==v2.2.4) (3.0.4)\n",
            "Requirement already satisfied: certifi>=2017.4.17 in /usr/local/lib/python3.6/dist-packages (from requests<3.0.0,>=2.13.0->spacy==v2.2.4) (2020.6.20)\n",
            "Requirement already satisfied: importlib-metadata>=0.20; python_version < \"3.8\" in /usr/local/lib/python3.6/dist-packages (from catalogue<1.1.0,>=0.0.7->spacy==v2.2.4) (1.7.0)\n",
            "Requirement already satisfied: zipp>=0.5 in /usr/local/lib/python3.6/dist-packages (from importlib-metadata>=0.20; python_version < \"3.8\"->catalogue<1.1.0,>=0.0.7->spacy==v2.2.4) (3.1.0)\n"
          ],
          "name": "stdout"
        }
      ]
    },
    {
      "cell_type": "code",
      "metadata": {
        "id": "eN0xH6xm-O9G",
        "outputId": "775a477b-bfac-441f-9c09-3882fe9eaafe",
        "colab": {
          "base_uri": "https://localhost:8080/",
          "height": 490
        }
      },
      "source": [
        "!python -m spacy download en"
      ],
      "execution_count": 2,
      "outputs": [
        {
          "output_type": "stream",
          "text": [
            "Requirement already satisfied: en_core_web_sm==2.2.5 from https://github.com/explosion/spacy-models/releases/download/en_core_web_sm-2.2.5/en_core_web_sm-2.2.5.tar.gz#egg=en_core_web_sm==2.2.5 in /usr/local/lib/python3.6/dist-packages (2.2.5)\n",
            "Requirement already satisfied: spacy>=2.2.2 in /usr/local/lib/python3.6/dist-packages (from en_core_web_sm==2.2.5) (2.2.4)\n",
            "Requirement already satisfied: catalogue<1.1.0,>=0.0.7 in /usr/local/lib/python3.6/dist-packages (from spacy>=2.2.2->en_core_web_sm==2.2.5) (1.0.0)\n",
            "Requirement already satisfied: plac<1.2.0,>=0.9.6 in /usr/local/lib/python3.6/dist-packages (from spacy>=2.2.2->en_core_web_sm==2.2.5) (1.1.3)\n",
            "Requirement already satisfied: murmurhash<1.1.0,>=0.28.0 in /usr/local/lib/python3.6/dist-packages (from spacy>=2.2.2->en_core_web_sm==2.2.5) (1.0.2)\n",
            "Requirement already satisfied: srsly<1.1.0,>=1.0.2 in /usr/local/lib/python3.6/dist-packages (from spacy>=2.2.2->en_core_web_sm==2.2.5) (1.0.2)\n",
            "Requirement already satisfied: blis<0.5.0,>=0.4.0 in /usr/local/lib/python3.6/dist-packages (from spacy>=2.2.2->en_core_web_sm==2.2.5) (0.4.1)\n",
            "Requirement already satisfied: tqdm<5.0.0,>=4.38.0 in /usr/local/lib/python3.6/dist-packages (from spacy>=2.2.2->en_core_web_sm==2.2.5) (4.41.1)\n",
            "Requirement already satisfied: preshed<3.1.0,>=3.0.2 in /usr/local/lib/python3.6/dist-packages (from spacy>=2.2.2->en_core_web_sm==2.2.5) (3.0.2)\n",
            "Requirement already satisfied: wasabi<1.1.0,>=0.4.0 in /usr/local/lib/python3.6/dist-packages (from spacy>=2.2.2->en_core_web_sm==2.2.5) (0.8.0)\n",
            "Requirement already satisfied: numpy>=1.15.0 in /usr/local/lib/python3.6/dist-packages (from spacy>=2.2.2->en_core_web_sm==2.2.5) (1.18.5)\n",
            "Requirement already satisfied: requests<3.0.0,>=2.13.0 in /usr/local/lib/python3.6/dist-packages (from spacy>=2.2.2->en_core_web_sm==2.2.5) (2.23.0)\n",
            "Requirement already satisfied: setuptools in /usr/local/lib/python3.6/dist-packages (from spacy>=2.2.2->en_core_web_sm==2.2.5) (50.3.0)\n",
            "Requirement already satisfied: cymem<2.1.0,>=2.0.2 in /usr/local/lib/python3.6/dist-packages (from spacy>=2.2.2->en_core_web_sm==2.2.5) (2.0.3)\n",
            "Requirement already satisfied: thinc==7.4.0 in /usr/local/lib/python3.6/dist-packages (from spacy>=2.2.2->en_core_web_sm==2.2.5) (7.4.0)\n",
            "Requirement already satisfied: importlib-metadata>=0.20; python_version < \"3.8\" in /usr/local/lib/python3.6/dist-packages (from catalogue<1.1.0,>=0.0.7->spacy>=2.2.2->en_core_web_sm==2.2.5) (1.7.0)\n",
            "Requirement already satisfied: urllib3!=1.25.0,!=1.25.1,<1.26,>=1.21.1 in /usr/local/lib/python3.6/dist-packages (from requests<3.0.0,>=2.13.0->spacy>=2.2.2->en_core_web_sm==2.2.5) (1.24.3)\n",
            "Requirement already satisfied: idna<3,>=2.5 in /usr/local/lib/python3.6/dist-packages (from requests<3.0.0,>=2.13.0->spacy>=2.2.2->en_core_web_sm==2.2.5) (2.10)\n",
            "Requirement already satisfied: certifi>=2017.4.17 in /usr/local/lib/python3.6/dist-packages (from requests<3.0.0,>=2.13.0->spacy>=2.2.2->en_core_web_sm==2.2.5) (2020.6.20)\n",
            "Requirement already satisfied: chardet<4,>=3.0.2 in /usr/local/lib/python3.6/dist-packages (from requests<3.0.0,>=2.13.0->spacy>=2.2.2->en_core_web_sm==2.2.5) (3.0.4)\n",
            "Requirement already satisfied: zipp>=0.5 in /usr/local/lib/python3.6/dist-packages (from importlib-metadata>=0.20; python_version < \"3.8\"->catalogue<1.1.0,>=0.0.7->spacy>=2.2.2->en_core_web_sm==2.2.5) (3.1.0)\n",
            "\u001b[38;5;2m✔ Download and installation successful\u001b[0m\n",
            "You can now load the model via spacy.load('en_core_web_sm')\n",
            "\u001b[38;5;2m✔ Linking successful\u001b[0m\n",
            "/usr/local/lib/python3.6/dist-packages/en_core_web_sm -->\n",
            "/usr/local/lib/python3.6/dist-packages/spacy/data/en\n",
            "You can now load the model via spacy.load('en')\n"
          ],
          "name": "stdout"
        }
      ]
    },
    {
      "cell_type": "markdown",
      "metadata": {
        "id": "FbKz26ER8gR9"
      },
      "source": [
        ""
      ]
    },
    {
      "cell_type": "markdown",
      "metadata": {
        "id": "35cd2GyN-TKm"
      },
      "source": [
        "# Load data"
      ]
    },
    {
      "cell_type": "markdown",
      "metadata": {
        "id": "HSjntods-4i8"
      },
      "source": [
        "Load raw dataset"
      ]
    },
    {
      "cell_type": "code",
      "metadata": {
        "id": "R_KVXhKY-u_U",
        "outputId": "ff466845-2e55-4612-838b-550cef098acf",
        "colab": {
          "base_uri": "https://localhost:8080/",
          "height": 571
        }
      },
      "source": [
        "# download the train, valid and test files from github:\n",
        "!wget https://raw.githubusercontent.com/natalyasegal/spacy_ner_conll2003_en/master/ner_proj/data/train.txt\n",
        "!wget https://raw.githubusercontent.com/natalyasegal/spacy_ner_conll2003_en/master/ner_proj/data/valid.txt\n",
        "!wget https://raw.githubusercontent.com/natalyasegal/spacy_ner_conll2003_en/master/ner_proj/data/test.txt"
      ],
      "execution_count": 4,
      "outputs": [
        {
          "output_type": "stream",
          "text": [
            "--2020-09-28 13:52:03--  https://raw.githubusercontent.com/natalyasegal/spacy_ner_conll2003_en/master/ner_proj/data/train.txt\n",
            "Resolving raw.githubusercontent.com (raw.githubusercontent.com)... 151.101.0.133, 151.101.64.133, 151.101.128.133, ...\n",
            "Connecting to raw.githubusercontent.com (raw.githubusercontent.com)|151.101.0.133|:443... connected.\n",
            "HTTP request sent, awaiting response... 200 OK\n",
            "Length: 3283418 (3.1M) [text/plain]\n",
            "Saving to: ‘train.txt’\n",
            "\n",
            "train.txt           100%[===================>]   3.13M  13.8MB/s    in 0.2s    \n",
            "\n",
            "2020-09-28 13:52:04 (13.8 MB/s) - ‘train.txt’ saved [3283418/3283418]\n",
            "\n",
            "--2020-09-28 13:52:04--  https://raw.githubusercontent.com/natalyasegal/spacy_ner_conll2003_en/master/ner_proj/data/valid.txt\n",
            "Resolving raw.githubusercontent.com (raw.githubusercontent.com)... 151.101.0.133, 151.101.64.133, 151.101.128.133, ...\n",
            "Connecting to raw.githubusercontent.com (raw.githubusercontent.com)|151.101.0.133|:443... connected.\n",
            "HTTP request sent, awaiting response... 200 OK\n",
            "Length: 827441 (808K) [text/plain]\n",
            "Saving to: ‘valid.txt’\n",
            "\n",
            "valid.txt           100%[===================>] 808.05K  --.-KB/s    in 0.09s   \n",
            "\n",
            "2020-09-28 13:52:04 (8.60 MB/s) - ‘valid.txt’ saved [827441/827441]\n",
            "\n",
            "--2020-09-28 13:52:04--  https://raw.githubusercontent.com/natalyasegal/spacy_ner_conll2003_en/master/ner_proj/data/test.txt\n",
            "Resolving raw.githubusercontent.com (raw.githubusercontent.com)... 151.101.0.133, 151.101.64.133, 151.101.128.133, ...\n",
            "Connecting to raw.githubusercontent.com (raw.githubusercontent.com)|151.101.0.133|:443... connected.\n",
            "HTTP request sent, awaiting response... 200 OK\n",
            "Length: 748093 (731K) [text/plain]\n",
            "Saving to: ‘test.txt’\n",
            "\n",
            "test.txt            100%[===================>] 730.56K  --.-KB/s    in 0.09s   \n",
            "\n",
            "2020-09-28 13:52:05 (8.34 MB/s) - ‘test.txt’ saved [748093/748093]\n",
            "\n"
          ],
          "name": "stdout"
        }
      ]
    },
    {
      "cell_type": "code",
      "metadata": {
        "id": "P6kgDiz-CFqe",
        "outputId": "0ae40bdc-42b1-4c1c-fb34-b6c22ee87006",
        "colab": {
          "base_uri": "https://localhost:8080/",
          "height": 571
        }
      },
      "source": [
        "# download the train, valid and test samples csv files from github (format ):\n",
        "!wget https://raw.githubusercontent.com/natalyasegal/spacy_ner_conll2003_en/master/ner_proj/data/train_freq.csv\n",
        "!wget https://raw.githubusercontent.com/natalyasegal/spacy_ner_conll2003_en/master/ner_proj/data/valid_freq.csv\n",
        "!wget https://raw.githubusercontent.com/natalyasegal/spacy_ner_conll2003_en/master/ner_proj/data/test_freq.csv"
      ],
      "execution_count": 13,
      "outputs": [
        {
          "output_type": "stream",
          "text": [
            "--2020-09-28 14:20:05--  https://raw.githubusercontent.com/natalyasegal/spacy_ner_conll2003_en/master/ner_proj/data/train_freq.csv\n",
            "Resolving raw.githubusercontent.com (raw.githubusercontent.com)... 151.101.0.133, 151.101.64.133, 151.101.128.133, ...\n",
            "Connecting to raw.githubusercontent.com (raw.githubusercontent.com)|151.101.0.133|:443... connected.\n",
            "HTTP request sent, awaiting response... 200 OK\n",
            "Length: 3516759 (3.4M) [text/plain]\n",
            "Saving to: ‘train_freq.csv’\n",
            "\n",
            "train_freq.csv      100%[===================>]   3.35M  14.3MB/s    in 0.2s    \n",
            "\n",
            "2020-09-28 14:20:06 (14.3 MB/s) - ‘train_freq.csv’ saved [3516759/3516759]\n",
            "\n",
            "--2020-09-28 14:20:06--  https://raw.githubusercontent.com/natalyasegal/spacy_ner_conll2003_en/master/ner_proj/data/valid_freq.csv\n",
            "Resolving raw.githubusercontent.com (raw.githubusercontent.com)... 151.101.0.133, 151.101.64.133, 151.101.128.133, ...\n",
            "Connecting to raw.githubusercontent.com (raw.githubusercontent.com)|151.101.0.133|:443... connected.\n",
            "HTTP request sent, awaiting response... 200 OK\n",
            "Length: 887476 (867K) [text/plain]\n",
            "Saving to: ‘valid_freq.csv’\n",
            "\n",
            "valid_freq.csv      100%[===================>] 866.68K  --.-KB/s    in 0.1s    \n",
            "\n",
            "2020-09-28 14:20:06 (8.62 MB/s) - ‘valid_freq.csv’ saved [887476/887476]\n",
            "\n",
            "--2020-09-28 14:20:06--  https://raw.githubusercontent.com/natalyasegal/spacy_ner_conll2003_en/master/ner_proj/data/test_freq.csv\n",
            "Resolving raw.githubusercontent.com (raw.githubusercontent.com)... 151.101.0.133, 151.101.64.133, 151.101.128.133, ...\n",
            "Connecting to raw.githubusercontent.com (raw.githubusercontent.com)|151.101.0.133|:443... connected.\n",
            "HTTP request sent, awaiting response... 200 OK\n",
            "Length: 800596 (782K) [text/plain]\n",
            "Saving to: ‘test_freq.csv’\n",
            "\n",
            "test_freq.csv       100%[===================>] 781.83K  --.-KB/s    in 0.09s   \n",
            "\n",
            "2020-09-28 14:20:07 (8.11 MB/s) - ‘test_freq.csv’ saved [800596/800596]\n",
            "\n"
          ],
          "name": "stdout"
        }
      ]
    },
    {
      "cell_type": "markdown",
      "metadata": {
        "id": "mWfFipI--lwp"
      },
      "source": [
        "# Imports"
      ]
    },
    {
      "cell_type": "code",
      "metadata": {
        "id": "1hvDLf_R-Xup",
        "outputId": "3149ae77-7a4f-49ab-defb-97a430c8f116",
        "colab": {
          "base_uri": "https://localhost:8080/",
          "height": 252
        }
      },
      "source": [
        "import spacy\n",
        "from spacy import displacy #for visualization\n",
        "spacy.info()"
      ],
      "execution_count": 5,
      "outputs": [
        {
          "output_type": "stream",
          "text": [
            "\u001b[1m\n",
            "============================== Info about spaCy ==============================\u001b[0m\n",
            "\n",
            "spaCy version    2.2.4                         \n",
            "Location         /usr/local/lib/python3.6/dist-packages/spacy\n",
            "Platform         Linux-4.19.112+-x86_64-with-Ubuntu-18.04-bionic\n",
            "Python version   3.6.9                         \n",
            "Models           en                            \n",
            "\n"
          ],
          "name": "stdout"
        },
        {
          "output_type": "execute_result",
          "data": {
            "text/plain": [
              "{'Location': '/usr/local/lib/python3.6/dist-packages/spacy',\n",
              " 'Models': 'en',\n",
              " 'Platform': 'Linux-4.19.112+-x86_64-with-Ubuntu-18.04-bionic',\n",
              " 'Python version': '3.6.9',\n",
              " 'spaCy version': '2.2.4'}"
            ]
          },
          "metadata": {
            "tags": []
          },
          "execution_count": 5
        }
      ]
    },
    {
      "cell_type": "code",
      "metadata": {
        "id": "lf3jXxKnFNWn"
      },
      "source": [
        "import pandas as pd"
      ],
      "execution_count": 10,
      "outputs": []
    },
    {
      "cell_type": "code",
      "metadata": {
        "id": "ecL4Skw7CjDR"
      },
      "source": [
        "import matplotlib.pyplot as plt\n",
        "%matplotlib inline"
      ],
      "execution_count": 9,
      "outputs": []
    },
    {
      "cell_type": "markdown",
      "metadata": {
        "id": "FkhM8y1x_TWU"
      },
      "source": [
        "# Explore dataset"
      ]
    },
    {
      "cell_type": "markdown",
      "metadata": {
        "id": "OhMuFH3CAAXs"
      },
      "source": [
        "Use Spacy CLI to convert to json as it is an input format Spacy can use while analysibg data "
      ]
    },
    {
      "cell_type": "code",
      "metadata": {
        "id": "zlSKwuPh_XKL",
        "outputId": "f8beaf88-b834-43c0-d2ab-457bfb16c500",
        "colab": {
          "base_uri": "https://localhost:8080/",
          "height": 168
        }
      },
      "source": [
        "!mkdir conll2003_json\n",
        "!python -m spacy convert -c ner -b en -n 10 train.txt conll2003_json\n",
        "!python -m spacy convert -c ner -b en -n 10 valid.txt conll2003_json\n",
        "!python -m spacy convert -c ner -b en -n 10 test.txt conll2003_json"
      ],
      "execution_count": 6,
      "outputs": [
        {
          "output_type": "stream",
          "text": [
            "\u001b[38;5;4mℹ Auto-detected token-per-line NER format\u001b[0m\n",
            "\u001b[38;5;4mℹ Grouping every 10 sentences into a document.\u001b[0m\n",
            "\u001b[38;5;2m✔ Generated output file (1499 documents): conll2003_json/train.json\u001b[0m\n",
            "\u001b[38;5;4mℹ Auto-detected token-per-line NER format\u001b[0m\n",
            "\u001b[38;5;4mℹ Grouping every 10 sentences into a document.\u001b[0m\n",
            "\u001b[38;5;2m✔ Generated output file (347 documents): conll2003_json/valid.json\u001b[0m\n",
            "\u001b[38;5;4mℹ Auto-detected token-per-line NER format\u001b[0m\n",
            "\u001b[38;5;4mℹ Grouping every 10 sentences into a document.\u001b[0m\n",
            "\u001b[38;5;2m✔ Generated output file (369 documents): conll2003_json/test.json\u001b[0m\n"
          ],
          "name": "stdout"
        }
      ]
    },
    {
      "cell_type": "markdown",
      "metadata": {
        "id": "kMK7TzDKAX43"
      },
      "source": [
        "Perform comparoson of training and validation sets"
      ]
    },
    {
      "cell_type": "code",
      "metadata": {
        "id": "nCMbiZztAcwk",
        "outputId": "6b5f3e1b-8fc2-49ea-cac3-ca1d06563aae",
        "colab": {
          "base_uri": "https://localhost:8080/",
          "height": 941
        }
      },
      "source": [
        "!python -m spacy debug-data en conll2003_json/train.json conll2003_json/valid.json -b en -V "
      ],
      "execution_count": 7,
      "outputs": [
        {
          "output_type": "stream",
          "text": [
            "\u001b[1m\n",
            "=========================== Data format validation ===========================\u001b[0m\n",
            "\u001b[2K\u001b[38;5;2m✔ Corpus is loadable\u001b[0m\n",
            "\u001b[1m\n",
            "=============================== Training stats ===============================\u001b[0m\n",
            "Training pipeline: tagger, parser, ner\n",
            "Starting with base model 'en'\n",
            "1499 training docs\n",
            "347 evaluation docs\n",
            "\u001b[38;5;2m✔ No overlap between training and evaluation data\u001b[0m\n",
            "\u001b[1m\n",
            "============================== Vocab & Vectors ==============================\u001b[0m\n",
            "\u001b[38;5;4mℹ 204567 total words in the data (23624 unique)\u001b[0m\n",
            "10 most common words: '.' (7374), ',' (7290), 'the' (7243), 'of' (3751), 'in'\n",
            "(3398), 'to' (3382), 'a' (2994), '(' (2861), ')' (2861), 'and' (2838)\n",
            "\u001b[38;5;4mℹ No word vectors present in the model\u001b[0m\n",
            "\u001b[1m\n",
            "========================== Named Entity Recognition ==========================\u001b[0m\n",
            "\u001b[38;5;4mℹ 2 new labels, 2 existing labels\u001b[0m\n",
            "0 missing values (tokens with '-' label)\n",
            "New: 'LOC' (7140), 'PER' (6600), 'ORG' (6321), 'MISC' (3438)\n",
            "Existing: 'LOC', 'ORG'\n",
            "\u001b[38;5;3m⚠ 15 entity span(s) with punctuation\u001b[0m\n",
            "\u001b[38;5;2m✔ Good amount of examples for all labels\u001b[0m\n",
            "\u001b[38;5;2m✔ Examples without occurrences available for all labels\u001b[0m\n",
            "\u001b[38;5;2m✔ No entities consisting of or starting/ending with whitespace\u001b[0m\n",
            "Entity spans consisting of or starting/ending with punctuation can not be\n",
            "trained with a noise level > 0.\n",
            "\u001b[1m\n",
            "=========================== Part-of-speech Tagging ===========================\u001b[0m\n",
            "\u001b[38;5;4mℹ 46 labels in data (50 labels in tag map)\u001b[0m\n",
            "'NNP' (34392), 'NN' (23899), 'CD' (19704), 'IN' (19064), 'DT' (13453), 'JJ'\n",
            "(11831), 'NNS' (9903), 'VBD' (8293), '.' (7389), ',' (7291), 'VB' (4252), 'VBN'\n",
            "(4105), 'RB' (3975), 'CC' (3653), 'TO' (3469), 'PRP' (3163), '(' (2866), ')'\n",
            "(2866), 'VBG' (2585), 'VBZ' (2426), ':' (2386), '\"' (2178), 'POS' (1553), 'PRP$'\n",
            "(1520), 'VBP' (1436), 'MD' (1199), '-X-' (946), 'NNPS' (684), 'RP' (528), 'WP'\n",
            "(528), 'WDT' (506), 'SYM' (439), '$' (427), 'WRB' (384), 'JJR' (382), 'JJS'\n",
            "(254), 'FW' (166), 'RBR' (163), 'EX' (136), 'RBS' (35), '''' (35), 'PDT' (33),\n",
            "'UH' (30), 'WP$' (23), 'LS' (13), 'NN|SYM' (4)\n",
            "\u001b[38;5;1m✘ Label '(' not found in tag map for language 'en'\u001b[0m\n",
            "\u001b[38;5;1m✘ Label ')' not found in tag map for language 'en'\u001b[0m\n",
            "\u001b[38;5;1m✘ Label '-X-' not found in tag map for language 'en'\u001b[0m\n",
            "\u001b[38;5;1m✘ Label '\"' not found in tag map for language 'en'\u001b[0m\n",
            "\u001b[38;5;1m✘ Label 'NN|SYM' not found in tag map for language 'en'\u001b[0m\n",
            "\u001b[1m\n",
            "============================= Dependency Parsing =============================\u001b[0m\n",
            "\u001b[38;5;4mℹ Found 204567 sentences with an average length of 1.0 words.\u001b[0m\n",
            "\u001b[38;5;4mℹ 1 label in train data\u001b[0m\n",
            "\u001b[38;5;4mℹ 1 label in projectivized train data\u001b[0m\n",
            "'' (204567)\n",
            "\u001b[1m\n",
            "================================== Summary ==================================\u001b[0m\n",
            "\u001b[38;5;2m✔ 5 checks passed\u001b[0m\n",
            "\u001b[38;5;3m⚠ 1 warning\u001b[0m\n",
            "\u001b[38;5;1m✘ 5 errors\u001b[0m\n"
          ],
          "name": "stdout"
        }
      ]
    },
    {
      "cell_type": "markdown",
      "metadata": {
        "id": "IV0_29hRAdol"
      },
      "source": [
        "Perform comparison of training and test sets"
      ]
    },
    {
      "cell_type": "code",
      "metadata": {
        "id": "mIQOqclqAhuo",
        "outputId": "f1aefb82-973c-4c75-be45-bb9b57c46659",
        "colab": {
          "base_uri": "https://localhost:8080/",
          "height": 941
        }
      },
      "source": [
        "!python -m spacy debug-data en conll2003_json/train.json conll2003_json/test.json -b en -V "
      ],
      "execution_count": 8,
      "outputs": [
        {
          "output_type": "stream",
          "text": [
            "\u001b[1m\n",
            "=========================== Data format validation ===========================\u001b[0m\n",
            "\u001b[2K\u001b[38;5;2m✔ Corpus is loadable\u001b[0m\n",
            "\u001b[1m\n",
            "=============================== Training stats ===============================\u001b[0m\n",
            "Training pipeline: tagger, parser, ner\n",
            "Starting with base model 'en'\n",
            "1499 training docs\n",
            "369 evaluation docs\n",
            "\u001b[38;5;2m✔ No overlap between training and evaluation data\u001b[0m\n",
            "\u001b[1m\n",
            "============================== Vocab & Vectors ==============================\u001b[0m\n",
            "\u001b[38;5;4mℹ 204567 total words in the data (23624 unique)\u001b[0m\n",
            "10 most common words: '.' (7374), ',' (7290), 'the' (7243), 'of' (3751), 'in'\n",
            "(3398), 'to' (3382), 'a' (2994), '(' (2861), ')' (2861), 'and' (2838)\n",
            "\u001b[38;5;4mℹ No word vectors present in the model\u001b[0m\n",
            "\u001b[1m\n",
            "========================== Named Entity Recognition ==========================\u001b[0m\n",
            "\u001b[38;5;4mℹ 2 new labels, 2 existing labels\u001b[0m\n",
            "0 missing values (tokens with '-' label)\n",
            "New: 'LOC' (7140), 'PER' (6600), 'ORG' (6321), 'MISC' (3438)\n",
            "Existing: 'LOC', 'ORG'\n",
            "\u001b[38;5;3m⚠ 15 entity span(s) with punctuation\u001b[0m\n",
            "\u001b[38;5;2m✔ Good amount of examples for all labels\u001b[0m\n",
            "\u001b[38;5;2m✔ Examples without occurrences available for all labels\u001b[0m\n",
            "\u001b[38;5;2m✔ No entities consisting of or starting/ending with whitespace\u001b[0m\n",
            "Entity spans consisting of or starting/ending with punctuation can not be\n",
            "trained with a noise level > 0.\n",
            "\u001b[1m\n",
            "=========================== Part-of-speech Tagging ===========================\u001b[0m\n",
            "\u001b[38;5;4mℹ 46 labels in data (50 labels in tag map)\u001b[0m\n",
            "'NNP' (34392), 'NN' (23899), 'CD' (19704), 'IN' (19064), 'DT' (13453), 'JJ'\n",
            "(11831), 'NNS' (9903), 'VBD' (8293), '.' (7389), ',' (7291), 'VB' (4252), 'VBN'\n",
            "(4105), 'RB' (3975), 'CC' (3653), 'TO' (3469), 'PRP' (3163), '(' (2866), ')'\n",
            "(2866), 'VBG' (2585), 'VBZ' (2426), ':' (2386), '\"' (2178), 'POS' (1553), 'PRP$'\n",
            "(1520), 'VBP' (1436), 'MD' (1199), '-X-' (946), 'NNPS' (684), 'RP' (528), 'WP'\n",
            "(528), 'WDT' (506), 'SYM' (439), '$' (427), 'WRB' (384), 'JJR' (382), 'JJS'\n",
            "(254), 'FW' (166), 'RBR' (163), 'EX' (136), '''' (35), 'RBS' (35), 'PDT' (33),\n",
            "'UH' (30), 'WP$' (23), 'LS' (13), 'NN|SYM' (4)\n",
            "\u001b[38;5;1m✘ Label '-X-' not found in tag map for language 'en'\u001b[0m\n",
            "\u001b[38;5;1m✘ Label '(' not found in tag map for language 'en'\u001b[0m\n",
            "\u001b[38;5;1m✘ Label ')' not found in tag map for language 'en'\u001b[0m\n",
            "\u001b[38;5;1m✘ Label '\"' not found in tag map for language 'en'\u001b[0m\n",
            "\u001b[38;5;1m✘ Label 'NN|SYM' not found in tag map for language 'en'\u001b[0m\n",
            "\u001b[1m\n",
            "============================= Dependency Parsing =============================\u001b[0m\n",
            "\u001b[38;5;4mℹ Found 204567 sentences with an average length of 1.0 words.\u001b[0m\n",
            "\u001b[38;5;4mℹ 1 label in train data\u001b[0m\n",
            "\u001b[38;5;4mℹ 1 label in projectivized train data\u001b[0m\n",
            "'' (204567)\n",
            "\u001b[1m\n",
            "================================== Summary ==================================\u001b[0m\n",
            "\u001b[38;5;2m✔ 5 checks passed\u001b[0m\n",
            "\u001b[38;5;3m⚠ 1 warning\u001b[0m\n",
            "\u001b[38;5;1m✘ 5 errors\u001b[0m\n"
          ],
          "name": "stdout"
        }
      ]
    },
    {
      "cell_type": "markdown",
      "metadata": {
        "id": "51f2pE7DA8p0"
      },
      "source": [
        "Key takeaways form the results above are:\n",
        "- No overlap between training and evaluation data\n",
        "- Good amount of examples for all labels"
      ]
    },
    {
      "cell_type": "markdown",
      "metadata": {
        "id": "lM_iAy88DTqQ"
      },
      "source": [
        "Found several minor problems to pay attention later:\n",
        "- Label '(', ')' and '\"' not found in tag map for language 'en' . Caused by token per line approach. Check whether it's worth fixing.\n",
        "- Label '-X-' not found in tag map for language 'en'. Relates to the 1st line of the documents. Probably won't affect the results is not cleaned\n",
        "- Label 'NN|SYM' not found in tag map for language 'en'. Looks like a tokenization problem with limited effect on the dataset at hand. "
      ]
    },
    {
      "cell_type": "markdown",
      "metadata": {
        "id": "7nuff71mEsYV"
      },
      "source": [
        "# Answer the remaining question"
      ]
    },
    {
      "cell_type": "markdown",
      "metadata": {
        "id": "fKPVS1WkBl2K"
      },
      "source": [
        "So we have answers for two questions and are left with the following questions:\n",
        "- Check whether examples for valid and test sets were chosen at random and have % of examples per entity similar to one in train set\n",
        "- Check that there are enough samples in valid set and in test set"
      ]
    },
    {
      "cell_type": "code",
      "metadata": {
        "id": "_f4HO_msFAPM"
      },
      "source": [
        "train_freq = pd.read_csv('train_freq.csv')\n",
        "valid_freq = pd.read_csv('valid_freq.csv')\n",
        "test_freq = pd.read_csv('test_freq.csv')"
      ],
      "execution_count": 15,
      "outputs": []
    },
    {
      "cell_type": "code",
      "metadata": {
        "id": "4f_IHTNYFVIY",
        "outputId": "fd6c5a79-1881-4012-cbe4-2f1fb11aab19",
        "colab": {
          "base_uri": "https://localhost:8080/",
          "height": 195
        }
      },
      "source": [
        "train_freq.head()"
      ],
      "execution_count": 16,
      "outputs": [
        {
          "output_type": "execute_result",
          "data": {
            "text/html": [
              "<div>\n",
              "<style scoped>\n",
              "    .dataframe tbody tr th:only-of-type {\n",
              "        vertical-align: middle;\n",
              "    }\n",
              "\n",
              "    .dataframe tbody tr th {\n",
              "        vertical-align: top;\n",
              "    }\n",
              "\n",
              "    .dataframe thead th {\n",
              "        text-align: right;\n",
              "    }\n",
              "</style>\n",
              "<table border=\"1\" class=\"dataframe\">\n",
              "  <thead>\n",
              "    <tr style=\"text-align: right;\">\n",
              "      <th></th>\n",
              "      <th>token</th>\n",
              "      <th>pos</th>\n",
              "      <th>chunk</th>\n",
              "      <th>lable</th>\n",
              "    </tr>\n",
              "  </thead>\n",
              "  <tbody>\n",
              "    <tr>\n",
              "      <th>0</th>\n",
              "      <td>EU</td>\n",
              "      <td>NNP</td>\n",
              "      <td>B-NP</td>\n",
              "      <td>B-ORG</td>\n",
              "    </tr>\n",
              "    <tr>\n",
              "      <th>1</th>\n",
              "      <td>rejects</td>\n",
              "      <td>VBZ</td>\n",
              "      <td>B-VP</td>\n",
              "      <td>O</td>\n",
              "    </tr>\n",
              "    <tr>\n",
              "      <th>2</th>\n",
              "      <td>German</td>\n",
              "      <td>JJ</td>\n",
              "      <td>B-NP</td>\n",
              "      <td>B-MISC</td>\n",
              "    </tr>\n",
              "    <tr>\n",
              "      <th>3</th>\n",
              "      <td>call</td>\n",
              "      <td>NN</td>\n",
              "      <td>I-NP</td>\n",
              "      <td>O</td>\n",
              "    </tr>\n",
              "    <tr>\n",
              "      <th>4</th>\n",
              "      <td>to</td>\n",
              "      <td>TO</td>\n",
              "      <td>B-VP</td>\n",
              "      <td>O</td>\n",
              "    </tr>\n",
              "  </tbody>\n",
              "</table>\n",
              "</div>"
            ],
            "text/plain": [
              "     token  pos chunk   lable\n",
              "0       EU  NNP  B-NP   B-ORG\n",
              "1  rejects  VBZ  B-VP       O\n",
              "2   German   JJ  B-NP  B-MISC\n",
              "3     call   NN  I-NP       O\n",
              "4       to   TO  B-VP       O"
            ]
          },
          "metadata": {
            "tags": []
          },
          "execution_count": 16
        }
      ]
    },
    {
      "cell_type": "markdown",
      "metadata": {
        "id": "NlnmOLASFu4r"
      },
      "source": [
        "What percent of the whole number of entities are in validation and test sets:"
      ]
    },
    {
      "cell_type": "code",
      "metadata": {
        "id": "LFPG2ZsYF80h",
        "outputId": "02a483ca-e3e7-4ec5-bfa9-2486541bdb7d",
        "colab": {
          "base_uri": "https://localhost:8080/",
          "height": 34
        }
      },
      "source": [
        "all = (len(valid_freq)+len(train_freq)+len(test_freq))\n",
        "print(\"validation: \", 100*len(valid_freq)/all, \"%\", \" test: \", 100*len(test_freq)/all, \"%\")"
      ],
      "execution_count": 29,
      "outputs": [
        {
          "output_type": "stream",
          "text": [
            "validation:  17.03290533935695 %  test:  15.410755330110169 %\n"
          ],
          "name": "stdout"
        }
      ]
    },
    {
      "cell_type": "markdown",
      "metadata": {
        "id": "hUNOH2yLHYYk"
      },
      "source": [
        "Utility to view and plot entities frequencies "
      ]
    },
    {
      "cell_type": "code",
      "metadata": {
        "id": "Ie9lLurUHVoj"
      },
      "source": [
        "def plot_lables_frequency(vc, tag):\n",
        "    trlf = pd.DataFrame(vc).reset_index()\n",
        "    trlf.columns = ['lable', 'count']\n",
        "    trlf_sub = trlf[trlf.lable != 'O']\n",
        "    my_plot = trlf_sub[['lable', 'count']].plot(kind='bar',legend=None,title=\"Lables frequencies \" + tag)\n",
        "    my_plot.set_xlabel(\"Lables\")\n",
        "    my_plot.set_ylabel(\"Count\")"
      ],
      "execution_count": 23,
      "outputs": []
    },
    {
      "cell_type": "markdown",
      "metadata": {
        "id": "0jFBPGjRElqs"
      },
      "source": [
        "Training set - value counts of lables and plot of lables without O"
      ]
    },
    {
      "cell_type": "code",
      "metadata": {
        "id": "PVA3RoDUHq62",
        "outputId": "8bb577b7-82aa-43f1-bfb8-dabd200beb39",
        "colab": {
          "base_uri": "https://localhost:8080/",
          "height": 460
        }
      },
      "source": [
        "print(train_freq.lable.value_counts())\n",
        "plot_lables_frequency(train_freq.lable.value_counts(), \"in train\")"
      ],
      "execution_count": 25,
      "outputs": [
        {
          "output_type": "stream",
          "text": [
            "O         170523\n",
            "B-LOC       7140\n",
            "B-PER       6600\n",
            "B-ORG       6321\n",
            "I-PER       4528\n",
            "I-ORG       3704\n",
            "B-MISC      3438\n",
            "I-LOC       1157\n",
            "I-MISC      1155\n",
            "Name: lable, dtype: int64\n"
          ],
          "name": "stdout"
        },
        {
          "output_type": "display_data",
          "data": {
            "image/png": "[encoded data removed]",
            "text/plain": [
              "<Figure size 432x288 with 1 Axes>"
            ]
          },
          "metadata": {
            "tags": [],
            "needs_background": "light"
          }
        }
      ]
    },
    {
      "cell_type": "markdown",
      "metadata": {
        "id": "xBkZpASmI3cK"
      },
      "source": [
        "Same for validation set:"
      ]
    },
    {
      "cell_type": "code",
      "metadata": {
        "id": "uxvyBuzXI6Ec",
        "outputId": "b69f8843-dc1c-4eeb-e00d-9aa89c2ad57b",
        "colab": {
          "base_uri": "https://localhost:8080/",
          "height": 460
        }
      },
      "source": [
        "print(valid_freq.lable.value_counts())\n",
        "plot_lables_frequency(valid_freq.lable.value_counts(), \"in validation set\")"
      ],
      "execution_count": 27,
      "outputs": [
        {
          "output_type": "stream",
          "text": [
            "O         42974\n",
            "B-PER      1842\n",
            "B-LOC      1837\n",
            "B-ORG      1341\n",
            "I-PER      1307\n",
            "B-MISC      922\n",
            "I-ORG       751\n",
            "I-MISC      346\n",
            "I-LOC       257\n",
            "Name: lable, dtype: int64\n"
          ],
          "name": "stdout"
        },
        {
          "output_type": "display_data",
          "data": {
            "image/png": "[encoded data removed]",
            "text/plain": [
              "<Figure size 432x288 with 1 Axes>"
            ]
          },
          "metadata": {
            "tags": [],
            "needs_background": "light"
          }
        }
      ]
    },
    {
      "cell_type": "markdown",
      "metadata": {
        "id": "NZjxbaEAJK_w"
      },
      "source": [
        "Same for the test set:"
      ]
    },
    {
      "cell_type": "code",
      "metadata": {
        "id": "v0jIKjbJJNuf",
        "outputId": "04bc19e3-6311-44fa-f0e0-b4a6c86245e9",
        "colab": {
          "base_uri": "https://localhost:8080/",
          "height": 460
        }
      },
      "source": [
        "print(test_freq.lable.value_counts())\n",
        "plot_lables_frequency(test_freq.lable.value_counts(), \"in test set\")"
      ],
      "execution_count": 28,
      "outputs": [
        {
          "output_type": "stream",
          "text": [
            "O         38553\n",
            "B-LOC      1668\n",
            "B-ORG      1661\n",
            "B-PER      1617\n",
            "I-PER      1156\n",
            "I-ORG       835\n",
            "B-MISC      702\n",
            "I-LOC       257\n",
            "I-MISC      216\n",
            "Name: lable, dtype: int64\n"
          ],
          "name": "stdout"
        },
        {
          "output_type": "display_data",
          "data": {
            "image/png": "[encoded data removed]",
            "text/plain": [
              "<Figure size 432x288 with 1 Axes>"
            ]
          },
          "metadata": {
            "tags": [],
            "needs_background": "light"
          }
        }
      ]
    },
    {
      "cell_type": "markdown",
      "metadata": {
        "id": "MasETWMnJjaN"
      },
      "source": [
        "Key takeaways form the results above are:\n",
        "- Reasonable % of all the samples are left to validatio and test sets (17% for valid and 15% for test)\n",
        "- Lables distribution are similar in all 3 sets"
      ]
    },
    {
      "cell_type": "markdown",
      "metadata": {
        "id": "-mdJRBgvKQvJ"
      },
      "source": [
        "# Important questions that we cannot answer now"
      ]
    },
    {
      "cell_type": "markdown",
      "metadata": {
        "id": "zpp_erhXKWPg"
      },
      "source": [
        "There are several important questions that we canot answer before gathering data from actual traffic (or data we believe that looks the same ast actual traffic)\n",
        "- Whether entities frequencies distribution in the Conll2003 dataset is similar to the this distribution in actual traffic\n",
        "- What would be the Conll2003 pitfall on the actuall traffic. (I would proceed with checking % of first person sentences in actual trafic vs one on Conll2003 when we have data) "
      ]
    }
  ]
}