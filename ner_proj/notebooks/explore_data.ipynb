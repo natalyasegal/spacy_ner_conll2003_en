{
 "cells": [
  {
   "cell_type": "markdown",
   "metadata": {},
   "source": [
    "# Data Exploration"
   ]
  },
  {
   "cell_type": "code",
   "execution_count": 3,
   "metadata": {},
   "outputs": [],
   "source": [
    "import pandas as pd\n",
    "import numpy as np\n",
    "import sys"
   ]
  },
  {
   "cell_type": "code",
   "execution_count": 4,
   "metadata": {
    "scrolled": true
   },
   "outputs": [],
   "source": [
    "# to be able to auto reload external code:\n",
    "\n",
    "%load_ext autoreload\n",
    "%autoreload 2\n",
    "\n",
    "# for Linux\n",
    "sys.path.append('../src')\n",
    "sys.path.append('../data')\n",
    "\n",
    "# for Windows\n",
    "sys.path.append('..\\\\src\\\\')\n",
    "sys.path.append('..\\\\data\\\\')"
   ]
  },
  {
   "cell_type": "markdown",
   "metadata": {},
   "source": [
    "## Read pre-processed dataframes"
   ]
  },
  {
   "cell_type": "markdown",
   "metadata": {},
   "source": [
    "Note: Parsing of the train, valid and test files is done via parse_data notebook"
   ]
  },
  {
   "cell_type": "markdown",
   "metadata": {},
   "source": [
    "I have incuded files containing the trian, valid, test data after parcing, this will save time if you are running on a weak CPU. Separating into 2 notebooks one of parsing and one for exploration, makes the current notebook lightweight."
   ]
  },
  {
   "cell_type": "markdown",
   "metadata": {},
   "source": [
    "The parsing stage have created 2 types of dataframes, one with line per token and another with line per sentence. We'll dive deeper into them in this notebook"
   ]
  },
  {
   "cell_type": "code",
   "execution_count": 5,
   "metadata": {
    "scrolled": true
   },
   "outputs": [],
   "source": [
    "# sentences:\n",
    "train_features = pd.read_csv('..\\\\data\\\\train_features.csv')\n",
    "valid_features = pd.read_csv('..\\\\data\\\\valid_features.csv')\n",
    "test_features = pd.read_csv('..\\\\data\\\\test_features.csv')\n",
    "\n",
    "# tokens\n",
    "train_freq = pd.read_csv('..\\\\data\\\\train_freq.csv')\n",
    "valid_freq = pd.read_csv('..\\\\data\\\\valid_freq.csv')\n",
    "test_freq = pd.read_csv('..\\\\data\\\\test_freq.csv')"
   ]
  },
  {
   "cell_type": "markdown",
   "metadata": {},
   "source": [
    "## Check the number of samples and tockens in each set: train, valid, test"
   ]
  },
  {
   "cell_type": "code",
   "execution_count": 6,
   "metadata": {},
   "outputs": [
    {
     "name": "stdout",
     "output_type": "stream",
     "text": [
      "number of sentences in train, valid and test sets respectively:  14040 3249 3452\n"
     ]
    }
   ],
   "source": [
    "print('number of sentences in train, valid and test sets respectively: ', len(train_features), len(valid_features), len(test_features))"
   ]
  },
  {
   "cell_type": "code",
   "execution_count": 7,
   "metadata": {
    "scrolled": true
   },
   "outputs": [
    {
     "name": "stdout",
     "output_type": "stream",
     "text": [
      "number of tokens in train, valid and test sets respectively: :  204566 51577 46665\n"
     ]
    }
   ],
   "source": [
    "print('number of tokens in train, valid and test sets respectively: : ', len(train_freq), len(valid_freq), len(test_freq))"
   ]
  },
  {
   "cell_type": "markdown",
   "metadata": {},
   "source": [
    "## Check relative sizes of training and test+validation sets"
   ]
  },
  {
   "cell_type": "markdown",
   "metadata": {},
   "source": [
    "Sentences:"
   ]
  },
  {
   "cell_type": "code",
   "execution_count": 8,
   "metadata": {},
   "outputs": [
    {
     "name": "stdout",
     "output_type": "stream",
     "text": [
      "Percent of sentences left for validation and testing is 32.30798900728026 %\n"
     ]
    }
   ],
   "source": [
    "# (number of sentences in test + valid sets) / ( number of sentences in train + test + valid sets)\n",
    "print(\"Percent of sentences left for validation and testing is\", \n",
    "      100*(len(valid_features) + len(test_features))/(len(train_features) + len(valid_features) + len(test_features)), \"%\")"
   ]
  },
  {
   "cell_type": "code",
   "execution_count": 9,
   "metadata": {},
   "outputs": [
    {
     "name": "stdout",
     "output_type": "stream",
     "text": [
      "The number of sentences in the validation set ( 3249 ) is almost equals to one in the test set (  3452  )\n"
     ]
    }
   ],
   "source": [
    "print(\"The number of sentences in the validation set (\", len(valid_features), \") is almost equals to one in the test set ( \", \n",
    "      len(test_features), \" )\")"
   ]
  },
  {
   "cell_type": "markdown",
   "metadata": {},
   "source": [
    "Tokens:"
   ]
  },
  {
   "cell_type": "code",
   "execution_count": 10,
   "metadata": {},
   "outputs": [
    {
     "name": "stdout",
     "output_type": "stream",
     "text": [
      "Percent of tokens left for validation and testing is 32.44366066946712 %\n"
     ]
    }
   ],
   "source": [
    "# (number of tokens in test + valid sets) / ( number of tokens in train + test + valid sets)\n",
    "print(\"Percent of tokens left for validation and testing is\", \n",
    "      100*(len(valid_freq) + len(test_freq))/(len(train_freq) + len(valid_freq) + len(test_freq)), \"%\")"
   ]
  },
  {
   "cell_type": "code",
   "execution_count": 11,
   "metadata": {},
   "outputs": [
    {
     "name": "stdout",
     "output_type": "stream",
     "text": [
      "The number of tokens in the validation set ( 51577 ), one in the test set (  46665  )\n"
     ]
    }
   ],
   "source": [
    "print(\"The number of tokens in the validation set (\", len(valid_freq), \"), one in the test set ( \", \n",
    "      len(test_freq), \" )\")"
   ]
  },
  {
   "cell_type": "markdown",
   "metadata": {},
   "source": [
    "## Take a quick look at the resulting train data"
   ]
  },
  {
   "cell_type": "markdown",
   "metadata": {},
   "source": [
    "sample will every time give a random sample of the requested size so is convenient for spotting data cleaning problems"
   ]
  },
  {
   "cell_type": "code",
   "execution_count": 12,
   "metadata": {},
   "outputs": [],
   "source": [
    "# set width to see more of the long lists of features and lables in the table\n",
    "pd.set_option('max_colwidth', 300)"
   ]
  },
  {
   "cell_type": "code",
   "execution_count": 13,
   "metadata": {
    "scrolled": false
   },
   "outputs": [
    {
     "data": {
      "text/html": [
       "<div>\n",
       "<style scoped>\n",
       "    .dataframe tbody tr th:only-of-type {\n",
       "        vertical-align: middle;\n",
       "    }\n",
       "\n",
       "    .dataframe tbody tr th {\n",
       "        vertical-align: top;\n",
       "    }\n",
       "\n",
       "    .dataframe thead th {\n",
       "        text-align: right;\n",
       "    }\n",
       "</style>\n",
       "<table border=\"1\" class=\"dataframe\">\n",
       "  <thead>\n",
       "    <tr style=\"text-align: right;\">\n",
       "      <th></th>\n",
       "      <th>features</th>\n",
       "      <th>lables</th>\n",
       "    </tr>\n",
       "  </thead>\n",
       "  <tbody>\n",
       "    <tr>\n",
       "      <td>4527</td>\n",
       "      <td>['TENNIS', '-', 'RESULTS', 'AT', 'HAMLET', 'CUP', '.']</td>\n",
       "      <td>['O', 'O', 'O', 'O', 'B-MISC', 'I-MISC', 'O']</td>\n",
       "    </tr>\n",
       "    <tr>\n",
       "      <td>4271</td>\n",
       "      <td>['Iran', 'has', 'an', 'estimated', 'one', 'million', 'drug', 'addicts', 'and', 'is', 'a', 'key', 'transit', 'route', 'for', 'drugs', ',', 'mostly', 'opium', ',', 'smuggled', 'to', 'Europe', 'through', 'Afghanistan', 'and', 'Pakistan', '--', 'the', 'so', 'called', '\"', 'Golden', 'Crescent', '.', ...</td>\n",
       "      <td>['B-LOC', 'O', 'O', 'O', 'O', 'O', 'O', 'O', 'O', 'O', 'O', 'O', 'O', 'O', 'O', 'O', 'O', 'O', 'O', 'O', 'O', 'O', 'B-LOC', 'O', 'B-LOC', 'O', 'B-LOC', 'O', 'O', 'O', 'O', 'O', 'B-ORG', 'I-ORG', 'O', 'O']</td>\n",
       "    </tr>\n",
       "    <tr>\n",
       "      <td>5020</td>\n",
       "      <td>['SOCCER', '-', 'SCOTTISH', 'PREMIER', 'DIVISION', 'RESULT', '/', 'STANDINGS', '.']</td>\n",
       "      <td>['O', 'O', 'B-MISC', 'O', 'O', 'O', 'O', 'O', 'O']</td>\n",
       "    </tr>\n",
       "    <tr>\n",
       "      <td>9337</td>\n",
       "      <td>['Portland', 'sources', 'said', 'feed', 'mixer', 'demand', 'was', 'keeping', 'pace', 'with', 'millfeed', 'production', 'and', 'driving', 'prices', 'higher', '.']</td>\n",
       "      <td>['B-LOC', 'O', 'O', 'O', 'O', 'O', 'O', 'O', 'O', 'O', 'O', 'O', 'O', 'O', 'O', 'O', 'O']</td>\n",
       "    </tr>\n",
       "    <tr>\n",
       "      <td>100</td>\n",
       "      <td>['Rabinovich', 'is', 'winding', 'up', 'his', 'term', 'as', 'ambassador', '.']</td>\n",
       "      <td>['B-PER', 'O', 'O', 'O', 'O', 'O', 'O', 'O', 'O']</td>\n",
       "    </tr>\n",
       "    <tr>\n",
       "      <td>4789</td>\n",
       "      <td>['9.', 'Footwork', '1']</td>\n",
       "      <td>['O', 'O', 'O']</td>\n",
       "    </tr>\n",
       "    <tr>\n",
       "      <td>13884</td>\n",
       "      <td>['-', 'Coopers', 'and', 'Lybrand', 'emigrates', 'to', 'Basque', 'Country', 'for', 'fiscal', 'reasons']</td>\n",
       "      <td>['O', 'B-ORG', 'I-ORG', 'I-ORG', 'O', 'O', 'B-LOC', 'I-LOC', 'O', 'O', 'O']</td>\n",
       "    </tr>\n",
       "    <tr>\n",
       "      <td>11813</td>\n",
       "      <td>['Chiate', 'said', 'he', 'has', 'advised', 'Names', 'that', '\"', 'they', 'must', 'make', ',', 'individually', ',', 'a', 'risk', 'benefit', 'analysis', '.', '\"']</td>\n",
       "      <td>['B-PER', 'O', 'O', 'O', 'O', 'B-MISC', 'O', 'O', 'O', 'O', 'O', 'O', 'O', 'O', 'O', 'O', 'O', 'O', 'O', 'O']</td>\n",
       "    </tr>\n",
       "    <tr>\n",
       "      <td>1376</td>\n",
       "      <td>['It', 'sponsored', 'last', 'week', \"'s\", 'U.N.', 'Security', 'Council', 'resolution', 'threatening', 'a', 'ban', 'on', 'Sudanese', 'flights', 'abroad', 'if', 'Khartoum', 'does', 'not', 'hand', 'over', 'three', 'men', 'accused', 'in', 'the', 'Addis', 'Ababa', 'incident', '.']</td>\n",
       "      <td>['O', 'O', 'O', 'O', 'O', 'B-ORG', 'I-ORG', 'I-ORG', 'O', 'O', 'O', 'O', 'O', 'B-MISC', 'O', 'O', 'O', 'B-LOC', 'O', 'O', 'O', 'O', 'O', 'O', 'O', 'O', 'O', 'B-LOC', 'I-LOC', 'O', 'O']</td>\n",
       "    </tr>\n",
       "    <tr>\n",
       "      <td>10559</td>\n",
       "      <td>['SOCCER', '-', 'BARCELONA', 'WIN', 'SPANISH', 'SUPER', 'CUP', '.']</td>\n",
       "      <td>['O', 'O', 'B-ORG', 'O', 'B-MISC', 'B-MISC', 'I-MISC', 'O']</td>\n",
       "    </tr>\n",
       "  </tbody>\n",
       "</table>\n",
       "</div>"
      ],
      "text/plain": [
       "                                                                                                                                                                                                                                                                                                          features  \\\n",
       "4527                                                                                                                                                                                                                                                        ['TENNIS', '-', 'RESULTS', 'AT', 'HAMLET', 'CUP', '.']   \n",
       "4271   ['Iran', 'has', 'an', 'estimated', 'one', 'million', 'drug', 'addicts', 'and', 'is', 'a', 'key', 'transit', 'route', 'for', 'drugs', ',', 'mostly', 'opium', ',', 'smuggled', 'to', 'Europe', 'through', 'Afghanistan', 'and', 'Pakistan', '--', 'the', 'so', 'called', '\"', 'Golden', 'Crescent', '.', ...   \n",
       "5020                                                                                                                                                                                                                           ['SOCCER', '-', 'SCOTTISH', 'PREMIER', 'DIVISION', 'RESULT', '/', 'STANDINGS', '.']   \n",
       "9337                                                                                                                                             ['Portland', 'sources', 'said', 'feed', 'mixer', 'demand', 'was', 'keeping', 'pace', 'with', 'millfeed', 'production', 'and', 'driving', 'prices', 'higher', '.']   \n",
       "100                                                                                                                                                                                                                                  ['Rabinovich', 'is', 'winding', 'up', 'his', 'term', 'as', 'ambassador', '.']   \n",
       "4789                                                                                                                                                                                                                                                                                       ['9.', 'Footwork', '1']   \n",
       "13884                                                                                                                                                                                                       ['-', 'Coopers', 'and', 'Lybrand', 'emigrates', 'to', 'Basque', 'Country', 'for', 'fiscal', 'reasons']   \n",
       "11813                                                                                                                                             ['Chiate', 'said', 'he', 'has', 'advised', 'Names', 'that', '\"', 'they', 'must', 'make', ',', 'individually', ',', 'a', 'risk', 'benefit', 'analysis', '.', '\"']   \n",
       "1376                          ['It', 'sponsored', 'last', 'week', \"'s\", 'U.N.', 'Security', 'Council', 'resolution', 'threatening', 'a', 'ban', 'on', 'Sudanese', 'flights', 'abroad', 'if', 'Khartoum', 'does', 'not', 'hand', 'over', 'three', 'men', 'accused', 'in', 'the', 'Addis', 'Ababa', 'incident', '.']   \n",
       "10559                                                                                                                                                                                                                                          ['SOCCER', '-', 'BARCELONA', 'WIN', 'SPANISH', 'SUPER', 'CUP', '.']   \n",
       "\n",
       "                                                                                                                                                                                                             lables  \n",
       "4527                                                                                                                                                                  ['O', 'O', 'O', 'O', 'B-MISC', 'I-MISC', 'O']  \n",
       "4271   ['B-LOC', 'O', 'O', 'O', 'O', 'O', 'O', 'O', 'O', 'O', 'O', 'O', 'O', 'O', 'O', 'O', 'O', 'O', 'O', 'O', 'O', 'O', 'B-LOC', 'O', 'B-LOC', 'O', 'B-LOC', 'O', 'O', 'O', 'O', 'O', 'B-ORG', 'I-ORG', 'O', 'O']  \n",
       "5020                                                                                                                                                             ['O', 'O', 'B-MISC', 'O', 'O', 'O', 'O', 'O', 'O']  \n",
       "9337                                                                                                                      ['B-LOC', 'O', 'O', 'O', 'O', 'O', 'O', 'O', 'O', 'O', 'O', 'O', 'O', 'O', 'O', 'O', 'O']  \n",
       "100                                                                                                                                                               ['B-PER', 'O', 'O', 'O', 'O', 'O', 'O', 'O', 'O']  \n",
       "4789                                                                                                                                                                                                ['O', 'O', 'O']  \n",
       "13884                                                                                                                                   ['O', 'B-ORG', 'I-ORG', 'I-ORG', 'O', 'O', 'B-LOC', 'I-LOC', 'O', 'O', 'O']  \n",
       "11813                                                                                                 ['B-PER', 'O', 'O', 'O', 'O', 'B-MISC', 'O', 'O', 'O', 'O', 'O', 'O', 'O', 'O', 'O', 'O', 'O', 'O', 'O', 'O']  \n",
       "1376                       ['O', 'O', 'O', 'O', 'O', 'B-ORG', 'I-ORG', 'I-ORG', 'O', 'O', 'O', 'O', 'O', 'B-MISC', 'O', 'O', 'O', 'B-LOC', 'O', 'O', 'O', 'O', 'O', 'O', 'O', 'O', 'O', 'B-LOC', 'I-LOC', 'O', 'O']  \n",
       "10559                                                                                                                                                   ['O', 'O', 'B-ORG', 'O', 'B-MISC', 'B-MISC', 'I-MISC', 'O']  "
      ]
     },
     "execution_count": 13,
     "metadata": {},
     "output_type": "execute_result"
    }
   ],
   "source": [
    "# data format is [listof tokens] [list of corresponding lables] grouped in sentences, see sample below:\n",
    "train_features.sample(10)"
   ]
  },
  {
   "cell_type": "markdown",
   "metadata": {},
   "source": [
    "## Clean the data"
   ]
  },
  {
   "cell_type": "code",
   "execution_count": 14,
   "metadata": {},
   "outputs": [],
   "source": [
    "# I have made several cleanup iterations, but added then to the parsing utility\n",
    "# example of data to clean that I have seen while exploring training data were the fillowing lines:\n",
    "# [-DOCSTART-]\t[-X-]"
   ]
  },
  {
   "cell_type": "markdown",
   "metadata": {},
   "source": [
    "## Utilities for data exploration"
   ]
  },
  {
   "cell_type": "code",
   "execution_count": 15,
   "metadata": {},
   "outputs": [],
   "source": [
    "import matplotlib.pyplot as plt\n",
    "%matplotlib inline\n",
    "\n",
    "def plot_lables_frequency(vc, tag):\n",
    "    trlf = pd.DataFrame(vc).reset_index()\n",
    "    trlf.columns = ['lable', 'count']\n",
    "    trlf_sub = trlf[trlf.lable != 'O']\n",
    "    my_plot = trlf_sub[['lable', 'count']].plot(kind='bar',legend=None,title=\"Lables frequencies \" + tag)\n",
    "    my_plot.set_xlabel(\"Lables\")\n",
    "    my_plot.set_ylabel(\"Count\")"
   ]
  },
  {
   "cell_type": "markdown",
   "metadata": {},
   "source": [
    "## Explore lables frequencies in train set"
   ]
  },
  {
   "cell_type": "code",
   "execution_count": 16,
   "metadata": {},
   "outputs": [
    {
     "data": {
      "text/html": [
       "<div>\n",
       "<style scoped>\n",
       "    .dataframe tbody tr th:only-of-type {\n",
       "        vertical-align: middle;\n",
       "    }\n",
       "\n",
       "    .dataframe tbody tr th {\n",
       "        vertical-align: top;\n",
       "    }\n",
       "\n",
       "    .dataframe thead th {\n",
       "        text-align: right;\n",
       "    }\n",
       "</style>\n",
       "<table border=\"1\" class=\"dataframe\">\n",
       "  <thead>\n",
       "    <tr style=\"text-align: right;\">\n",
       "      <th></th>\n",
       "      <th>token</th>\n",
       "      <th>pos</th>\n",
       "      <th>chunk</th>\n",
       "      <th>lable</th>\n",
       "    </tr>\n",
       "  </thead>\n",
       "  <tbody>\n",
       "    <tr>\n",
       "      <td>715</td>\n",
       "      <td>was</td>\n",
       "      <td>VBD</td>\n",
       "      <td>B-VP</td>\n",
       "      <td>O</td>\n",
       "    </tr>\n",
       "    <tr>\n",
       "      <td>18115</td>\n",
       "      <td>mining</td>\n",
       "      <td>NN</td>\n",
       "      <td>B-NP</td>\n",
       "      <td>O</td>\n",
       "    </tr>\n",
       "    <tr>\n",
       "      <td>129312</td>\n",
       "      <td>returns</td>\n",
       "      <td>VBZ</td>\n",
       "      <td>B-VP</td>\n",
       "      <td>O</td>\n",
       "    </tr>\n",
       "    <tr>\n",
       "      <td>100357</td>\n",
       "      <td>Singapore</td>\n",
       "      <td>NNP</td>\n",
       "      <td>I-NP</td>\n",
       "      <td>B-LOC</td>\n",
       "    </tr>\n",
       "    <tr>\n",
       "      <td>19954</td>\n",
       "      <td>an</td>\n",
       "      <td>DT</td>\n",
       "      <td>B-NP</td>\n",
       "      <td>O</td>\n",
       "    </tr>\n",
       "    <tr>\n",
       "      <td>14825</td>\n",
       "      <td>match</td>\n",
       "      <td>NN</td>\n",
       "      <td>I-NP</td>\n",
       "      <td>O</td>\n",
       "    </tr>\n",
       "    <tr>\n",
       "      <td>43529</td>\n",
       "      <td>$</td>\n",
       "      <td>$</td>\n",
       "      <td>B-NP</td>\n",
       "      <td>O</td>\n",
       "    </tr>\n",
       "    <tr>\n",
       "      <td>196324</td>\n",
       "      <td>several</td>\n",
       "      <td>JJ</td>\n",
       "      <td>B-NP</td>\n",
       "      <td>O</td>\n",
       "    </tr>\n",
       "    <tr>\n",
       "      <td>72791</td>\n",
       "      <td>little</td>\n",
       "      <td>JJ</td>\n",
       "      <td>B-NP</td>\n",
       "      <td>O</td>\n",
       "    </tr>\n",
       "    <tr>\n",
       "      <td>33375</td>\n",
       "      <td>third</td>\n",
       "      <td>JJ</td>\n",
       "      <td>B-NP</td>\n",
       "      <td>O</td>\n",
       "    </tr>\n",
       "  </tbody>\n",
       "</table>\n",
       "</div>"
      ],
      "text/plain": [
       "            token  pos chunk  lable\n",
       "715           was  VBD  B-VP      O\n",
       "18115      mining   NN  B-NP      O\n",
       "129312    returns  VBZ  B-VP      O\n",
       "100357  Singapore  NNP  I-NP  B-LOC\n",
       "19954          an   DT  B-NP      O\n",
       "14825       match   NN  I-NP      O\n",
       "43529           $    $  B-NP      O\n",
       "196324    several   JJ  B-NP      O\n",
       "72791      little   JJ  B-NP      O\n",
       "33375       third   JJ  B-NP      O"
      ]
     },
     "execution_count": 16,
     "metadata": {},
     "output_type": "execute_result"
    }
   ],
   "source": [
    "train_freq.sample(10)"
   ]
  },
  {
   "cell_type": "markdown",
   "metadata": {},
   "source": [
    "Training:"
   ]
  },
  {
   "cell_type": "code",
   "execution_count": 17,
   "metadata": {},
   "outputs": [
    {
     "name": "stdout",
     "output_type": "stream",
     "text": [
      "frequencies of lables: \n",
      "O         170523\n",
      "B-LOC       7140\n",
      "B-PER       6600\n",
      "B-ORG       6321\n",
      "I-PER       4528\n",
      "I-ORG       3704\n",
      "B-MISC      3438\n",
      "I-LOC       1157\n",
      "I-MISC      1155\n",
      "Name: lable, dtype: int64\n"
     ]
    }
   ],
   "source": [
    "print(\"frequencies of lables: \")\n",
    "print(train_freq.lable.value_counts())"
   ]
  },
  {
   "cell_type": "markdown",
   "metadata": {},
   "source": [
    "Let's plot the lables bar graph, I'll o mit lable \"o\" in this graph to be able to view the relative values of less frequent lables."
   ]
  },
  {
   "cell_type": "code",
   "execution_count": 18,
   "metadata": {
    "scrolled": true
   },
   "outputs": [
    {
     "data": {
      "image/png": "[encoded data removed]",
      "text/plain": [
       "<Figure size 432x288 with 1 Axes>"
      ]
     },
     "metadata": {
      "needs_background": "light"
     },
     "output_type": "display_data"
    }
   ],
   "source": [
    "plot_lables_frequency(train_freq.lable.value_counts(), \"in train\")"
   ]
  },
  {
   "cell_type": "markdown",
   "metadata": {},
   "source": [
    "validation data:"
   ]
  },
  {
   "cell_type": "code",
   "execution_count": 19,
   "metadata": {},
   "outputs": [
    {
     "name": "stdout",
     "output_type": "stream",
     "text": [
      "frequencies of lables: \n",
      "O         42974\n",
      "B-PER      1842\n",
      "B-LOC      1837\n",
      "B-ORG      1341\n",
      "I-PER      1307\n",
      "B-MISC      922\n",
      "I-ORG       751\n",
      "I-MISC      346\n",
      "I-LOC       257\n",
      "Name: lable, dtype: int64\n"
     ]
    }
   ],
   "source": [
    "print(\"frequencies of lables: \")\n",
    "print(valid_freq.lable.value_counts())"
   ]
  },
  {
   "cell_type": "code",
   "execution_count": 20,
   "metadata": {},
   "outputs": [
    {
     "data": {
      "image/png": "[encoded data removed]",
      "text/plain": [
       "<Figure size 432x288 with 1 Axes>"
      ]
     },
     "metadata": {
      "needs_background": "light"
     },
     "output_type": "display_data"
    }
   ],
   "source": [
    "plot_lables_frequency(valid_freq.lable.value_counts(), \"in validation\")"
   ]
  },
  {
   "cell_type": "markdown",
   "metadata": {},
   "source": [
    "test data:"
   ]
  },
  {
   "cell_type": "code",
   "execution_count": 21,
   "metadata": {},
   "outputs": [
    {
     "name": "stdout",
     "output_type": "stream",
     "text": [
      "frequencies of lables: \n",
      "O         38553\n",
      "B-LOC      1668\n",
      "B-ORG      1661\n",
      "B-PER      1617\n",
      "I-PER      1156\n",
      "I-ORG       835\n",
      "B-MISC      702\n",
      "I-LOC       257\n",
      "I-MISC      216\n",
      "Name: lable, dtype: int64\n"
     ]
    }
   ],
   "source": [
    "print(\"frequencies of lables: \")\n",
    "print(test_freq.lable.value_counts())"
   ]
  },
  {
   "cell_type": "code",
   "execution_count": 22,
   "metadata": {
    "scrolled": true
   },
   "outputs": [
    {
     "data": {
      "image/png": "[encoded data removed]",
      "text/plain": [
       "<Figure size 432x288 with 1 Axes>"
      ]
     },
     "metadata": {
      "needs_background": "light"
     },
     "output_type": "display_data"
    }
   ],
   "source": [
    "plot_lables_frequency(test_freq.lable.value_counts(), \"in test\")"
   ]
  },
  {
   "cell_type": "markdown",
   "metadata": {},
   "source": [
    "### Conclusions from the graphs above"
   ]
  },
  {
   "cell_type": "markdown",
   "metadata": {},
   "source": [
    "- B-LOC, B-PER, B-ORG are most frequent in all 3 sets: train, valid, test\n",
    "- I have noticed some imballance: in validation set relative number of B-ORG is smaller then in others. It is 26.7% from the leading 3 lables in valid set as opposed to 31% in train.\n",
    "- I-Loc and I-MISC are the less frequent in all 3 sets"
   ]
  },
  {
   "cell_type": "markdown",
   "metadata": {},
   "source": [
    "## Frequencies of tockens"
   ]
  },
  {
   "cell_type": "code",
   "execution_count": 23,
   "metadata": {},
   "outputs": [
    {
     "name": "stdout",
     "output_type": "stream",
     "text": [
      "frequencies of tokens: \n",
      ".             7374\n",
      ",             7290\n",
      "the           7243\n",
      "of            3751\n",
      "in            3398\n",
      "              ... \n",
      "polishing        1\n",
      "hard-won         1\n",
      "Wilhelmina       1\n",
      "McFarlane        1\n",
      "jewel            1\n",
      "Name: token, Length: 23623, dtype: int64\n"
     ]
    }
   ],
   "source": [
    "print(\"frequencies of tokens: \")\n",
    "print(train_freq.token.value_counts())"
   ]
  },
  {
   "cell_type": "code",
   "execution_count": 24,
   "metadata": {},
   "outputs": [
    {
     "name": "stdout",
     "output_type": "stream",
     "text": [
      "frequencies of tokens: \n",
      ",              1637\n",
      ".              1626\n",
      "the            1545\n",
      "to              795\n",
      "of              783\n",
      "               ... \n",
      "46.7              1\n",
      "impasse           1\n",
      "accomplices       1\n",
      "KCBT              1\n",
      "KOREA             1\n",
      "Name: token, Length: 9489, dtype: int64\n"
     ]
    }
   ],
   "source": [
    "print(\"frequencies of tokens: \")\n",
    "print(test_freq.token.value_counts())"
   ]
  },
  {
   "cell_type": "code",
   "execution_count": 25,
   "metadata": {},
   "outputs": [
    {
     "name": "stdout",
     "output_type": "stream",
     "text": [
      "frequencies of tokens: \n",
      ",              1637\n",
      ".              1626\n",
      "the            1545\n",
      "to              795\n",
      "of              783\n",
      "               ... \n",
      "46.7              1\n",
      "impasse           1\n",
      "accomplices       1\n",
      "KCBT              1\n",
      "KOREA             1\n",
      "Name: token, Length: 9489, dtype: int64\n"
     ]
    }
   ],
   "source": [
    "print(\"frequencies of tokens: \")\n",
    "print(test_freq.token.value_counts())"
   ]
  },
  {
   "cell_type": "markdown",
   "metadata": {},
   "source": [
    "- We see that tockenizer has slited punctuation from words, so we see the expected picture of punctuation being the most frequent token\n",
    "- Second in frequency are stopwords, also as expected"
   ]
  },
  {
   "cell_type": "markdown",
   "metadata": {},
   "source": [
    "### Look at possible tokenization problems"
   ]
  },
  {
   "cell_type": "code",
   "execution_count": 26,
   "metadata": {},
   "outputs": [
    {
     "name": "stderr",
     "output_type": "stream",
     "text": [
      "[nltk_data] Downloading package stopwords to\n",
      "[nltk_data]     C:\\Users\\tasya\\AppData\\Roaming\\nltk_data...\n",
      "[nltk_data]   Package stopwords is already up-to-date!\n"
     ]
    },
    {
     "data": {
      "text/plain": [
       "True"
      ]
     },
     "execution_count": 26,
     "metadata": {},
     "output_type": "execute_result"
    }
   ],
   "source": [
    "import nltk\n",
    "from nltk.corpus import stopwords\n",
    "nltk.download('stopwords')"
   ]
  },
  {
   "cell_type": "code",
   "execution_count": 27,
   "metadata": {},
   "outputs": [],
   "source": [
    "import string\n",
    "\n",
    "def clean_stopwords_and_punct(trlf):\n",
    "    stlist = ['The', '-DOCSTART-', 'said']\n",
    "    excluded = stlist + list(string.punctuation) + list(stopwords.words('english'))\n",
    "    trlf_sub = trlf[~trlf.token.isin(excluded) ] #& ~trlf.token.isnumeric()\n",
    "    print(trlf_sub.token.value_counts().head())"
   ]
  },
  {
   "cell_type": "code",
   "execution_count": 28,
   "metadata": {
    "scrolled": true
   },
   "outputs": [
    {
     "name": "stdout",
     "output_type": "stream",
     "text": [
      "'s            330\n",
      "4             201\n",
      "1996-12-06    165\n",
      "2             161\n",
      "6             160\n",
      "Name: token, dtype: int64\n"
     ]
    }
   ],
   "source": [
    "clean_stopwords_and_punct(test_freq)"
   ]
  },
  {
   "cell_type": "markdown",
   "metadata": {},
   "source": [
    "Conclusions about tokenization:\n",
    "- \"'s\" is separated from words by the tokeniser\n",
    "- in dates \"-\" remain with the date"
   ]
  },
  {
   "cell_type": "markdown",
   "metadata": {},
   "source": [
    "## Let's take a look at frequency of tokens that were labled as named entities"
   ]
  },
  {
   "cell_type": "code",
   "execution_count": 29,
   "metadata": {},
   "outputs": [],
   "source": [
    "def explore_ne(trlf):\n",
    "    trlf_sub = trlf[trlf.lable != 'O']\n",
    "    print(trlf_sub.sample(10))\n",
    "    print(\"Frequencies:\")\n",
    "    print(trlf_sub.token.value_counts().head(10))"
   ]
  },
  {
   "cell_type": "code",
   "execution_count": 30,
   "metadata": {},
   "outputs": [
    {
     "name": "stdout",
     "output_type": "stream",
     "text": [
      "             token  pos chunk   lable\n",
      "9825      NATIONAL  NNP  B-NP  B-MISC\n",
      "21468          ADV  NNP  B-NP   B-ORG\n",
      "5366     Mickelson   NN  B-NP   B-PER\n",
      "38984   Goncharova  NNP  B-NP   B-PER\n",
      "116291        Haas  NNP  I-NP   I-PER\n",
      "52172     Somerset  NNP  B-NP   B-ORG\n",
      "22824   Bangladesh  NNP  I-NP   B-LOC\n",
      "21519      Cologne  NNP  B-NP   B-LOC\n",
      "198856     Kekkila  NNP  B-NP   B-ORG\n",
      "142102      Smoltz  NNP  I-NP   I-PER\n",
      "Frequencies:\n",
      "U.S.         377\n",
      "New          152\n",
      "Germany      143\n",
      "Australia    136\n",
      "of           134\n",
      "Britain      133\n",
      "France       127\n",
      "England      127\n",
      "South        121\n",
      "Spain        111\n",
      "Name: token, dtype: int64\n"
     ]
    }
   ],
   "source": [
    "explore_ne(train_freq)"
   ]
  },
  {
   "cell_type": "code",
   "execution_count": 31,
   "metadata": {},
   "outputs": [
    {
     "name": "stdout",
     "output_type": "stream",
     "text": [
      "          token  pos chunk   lable\n",
      "14396       New  NNP  B-NP   B-LOC\n",
      "48144     Iraqi   JJ  I-NP  B-MISC\n",
      "36628   Dodgers  NNP  I-NP   I-ORG\n",
      "6156    Germany  NNP  B-NP   B-LOC\n",
      "8937   Controls  NNP  I-NP   I-ORG\n",
      "10043    Briton  NNP  I-NP  B-MISC\n",
      "40265    Ingham  NNP  I-NP   I-PER\n",
      "35586      King  NNP  B-NP   B-PER\n",
      "779      London  NNP  B-NP   B-LOC\n",
      "2875    ANGELES  NNP  I-NP   I-ORG\n",
      "Frequencies:\n",
      "U.S.       130\n",
      "Germany     47\n",
      "Russia      45\n",
      "France      43\n",
      "of          40\n",
      "Iraqi       39\n",
      "China       32\n",
      "South       32\n",
      "England     32\n",
      "World       31\n",
      "Name: token, dtype: int64\n"
     ]
    }
   ],
   "source": [
    "explore_ne(valid_freq)"
   ]
  },
  {
   "cell_type": "code",
   "execution_count": 32,
   "metadata": {
    "scrolled": true
   },
   "outputs": [
    {
     "name": "stdout",
     "output_type": "stream",
     "text": [
      "            token  pos chunk   lable\n",
      "34076         New  NNP  B-NP   B-LOC\n",
      "38913         Cup  NNP  I-NP  I-MISC\n",
      "15951     Zairean   JJ  I-NP  B-MISC\n",
      "34703          of   IN  B-PP  I-MISC\n",
      "7567   Secretario  NNP  I-NP   I-PER\n",
      "4502       Indies  NNP  I-NP   I-LOC\n",
      "4665      Santoso  NNP  I-NP   I-PER\n",
      "38240     Austria  NNP  B-NP   B-LOC\n",
      "27734      Polish   JJ  I-NP  B-MISC\n",
      "9250      Angloma  NNP  I-NP   I-PER\n",
      "Frequencies:\n",
      "Cup          57\n",
      "World        55\n",
      "U.S.         51\n",
      "Germany      50\n",
      "Australia    45\n",
      "Japan        42\n",
      "Italy        42\n",
      "United       42\n",
      "France       40\n",
      "NEW          37\n",
      "Name: token, dtype: int64\n"
     ]
    }
   ],
   "source": [
    "explore_ne(test_freq)"
   ]
  },
  {
   "cell_type": "markdown",
   "metadata": {},
   "source": [
    "Observations:\n",
    "- \"of\" is frequently labled as named entity. Check whether mislabled or part of longer entity.\n",
    "- The same about \"New\", \"World\", \"Cup\", \"Network\", \"Action\" - all of them start from a capital letter, may be a beginning of a legitimage nemed entity and may be mislabling, for insatance mislabling of words that start from a capital letter at the beginnig of a sentence\n",
    "- In real life project I would have made sure that there is no mislabling issue here."
   ]
  },
  {
   "cell_type": "markdown",
   "metadata": {},
   "source": [
    "### Let's take a closer look at one of the questions/observations above"
   ]
  },
  {
   "cell_type": "markdown",
   "metadata": {},
   "source": [
    "- question: \"New\" - is it mislabling or part of legit entities? \n",
    "-- checked row data, nost of the \"New\" tokens are part of I/B-LOC, like New Zeland, New York, New England.\n",
    "-- let's check below where \"New\" that are tagged as names entities, but not I/B-LOC, come from"
   ]
  },
  {
   "cell_type": "code",
   "execution_count": 65,
   "metadata": {},
   "outputs": [],
   "source": [
    "def explore_non_location_ne(trlf):\n",
    "    excluded = ['O', 'B-LOC', 'I-LOC']\n",
    "    trlf_sub = trlf[~trlf.lable.isin(excluded) ]\n",
    "    trlf_sub1 = trlf_sub [trlf_sub.token == 'New']\n",
    "    print(trlf_sub1.head(12))\n",
    "    print(\"Frequencies:\")\n",
    "    print(trlf_sub1.lable.value_counts().head(10))"
   ]
  },
  {
   "cell_type": "markdown",
   "metadata": {},
   "source": [
    "At the level of individual entries"
   ]
  },
  {
   "cell_type": "code",
   "execution_count": 66,
   "metadata": {},
   "outputs": [
    {
     "name": "stdout",
     "output_type": "stream",
     "text": [
      "      token  pos chunk  lable\n",
      "4045    New  NNP  I-NP  I-ORG\n",
      "4109    New  NNP  I-NP  I-ORG\n",
      "9635    New  NNP  I-NP  B-ORG\n",
      "9663    New  NNP  I-NP  B-ORG\n",
      "10012   New  NNP  I-NP  B-ORG\n",
      "25138   New  NNP  B-NP  I-ORG\n",
      "25229   New  NNP  I-NP  I-ORG\n",
      "43675   New  NNP  I-NP  B-ORG\n",
      "43731   New  NNP  I-NP  I-ORG\n",
      "47253   New  NNP  B-NP  B-ORG\n",
      "54391   New  NNP  I-NP  B-ORG\n",
      "71242   New  NNP  I-NP  B-ORG\n",
      "Frequencies:\n",
      "B-ORG     39\n",
      "I-ORG     10\n",
      "B-MISC     8\n",
      "Name: lable, dtype: int64\n"
     ]
    }
   ],
   "source": [
    "explore_non_location_ne(train_freq)"
   ]
  },
  {
   "cell_type": "markdown",
   "metadata": {},
   "source": [
    "there is a single word per line, so let's check sebsequent lines"
   ]
  },
  {
   "cell_type": "markdown",
   "metadata": {},
   "source": [
    "Example of organization is correctly labled"
   ]
  },
  {
   "cell_type": "code",
   "execution_count": 67,
   "metadata": {},
   "outputs": [
    {
     "data": {
      "text/plain": [
       "token      New\n",
       "pos        NNP\n",
       "chunk     I-NP\n",
       "lable    I-ORG\n",
       "Name: 4045, dtype: object"
      ]
     },
     "execution_count": 67,
     "metadata": {},
     "output_type": "execute_result"
    }
   ],
   "source": [
    "train_freq.loc[4045] #org"
   ]
  },
  {
   "cell_type": "code",
   "execution_count": 68,
   "metadata": {},
   "outputs": [
    {
     "data": {
      "text/plain": [
       "token    England\n",
       "pos          NNP\n",
       "chunk       I-NP\n",
       "lable      I-ORG\n",
       "Name: 4046, dtype: object"
      ]
     },
     "execution_count": 68,
     "metadata": {},
     "output_type": "execute_result"
    }
   ],
   "source": [
    "train_freq.loc[4046]"
   ]
  },
  {
   "cell_type": "code",
   "execution_count": 69,
   "metadata": {},
   "outputs": [
    {
     "data": {
      "text/plain": [
       "token    Telecommunciations\n",
       "pos                     NNP\n",
       "chunk                  I-NP\n",
       "lable                 I-ORG\n",
       "Name: 4047, dtype: object"
      ]
     },
     "execution_count": 69,
     "metadata": {},
     "output_type": "execute_result"
    }
   ],
   "source": [
    "train_freq.loc[4047]"
   ]
  },
  {
   "cell_type": "markdown",
   "metadata": {},
   "source": [
    "Example of MISC, looks well"
   ]
  },
  {
   "cell_type": "code",
   "execution_count": 59,
   "metadata": {},
   "outputs": [
    {
     "data": {
      "text/plain": [
       "token       New\n",
       "pos         NNP\n",
       "chunk      I-NP\n",
       "lable    B-MISC\n",
       "Name: 76099, dtype: object"
      ]
     },
     "execution_count": 59,
     "metadata": {},
     "output_type": "execute_result"
    }
   ],
   "source": [
    "train_freq.loc[76099] #misc"
   ]
  },
  {
   "cell_type": "code",
   "execution_count": 60,
   "metadata": {},
   "outputs": [
    {
     "data": {
      "text/plain": [
       "token    Zealander\n",
       "pos            NNP\n",
       "chunk         I-NP\n",
       "lable       I-MISC\n",
       "Name: 76100, dtype: object"
      ]
     },
     "execution_count": 60,
     "metadata": {},
     "output_type": "execute_result"
    }
   ],
   "source": [
    "train_freq.loc[76100] #next line"
   ]
  },
  {
   "cell_type": "markdown",
   "metadata": {},
   "source": [
    "In a real project I would proceed to check bi-grams and tri-grams starting with \"New\"."
   ]
  },
  {
   "cell_type": "markdown",
   "metadata": {},
   "source": [
    "## Additional questions to answer:\n"
   ]
  },
  {
   "cell_type": "markdown",
   "metadata": {},
   "source": [
    "- What are the pitfaults of the annotations of dataset at hand? Ideas to check:\n",
    "-- Tokenization, see above\n",
    "- Do frequenfies (of tockens, lables) correlate with correspondig frequencies in samples from our expected traffic? - need traffic sample to answer"
   ]
  }
 ],
 "metadata": {
  "kernelspec": {
   "display_name": "Python 3",
   "language": "python",
   "name": "python3"
  },
  "language_info": {
   "codemirror_mode": {
    "name": "ipython",
    "version": 3
   },
   "file_extension": ".py",
   "mimetype": "text/x-python",
   "name": "python",
   "nbconvert_exporter": "python",
   "pygments_lexer": "ipython3",
   "version": "3.7.4"
  }
 },
 "nbformat": 4,
 "nbformat_minor": 2
}
