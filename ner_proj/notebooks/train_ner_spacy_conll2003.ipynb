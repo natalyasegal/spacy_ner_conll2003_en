{
  "nbformat": 4,
  "nbformat_minor": 0,
  "metadata": {
    "colab": {
      "name": "train_ner_spacy_conll2003.ipynb",
      "provenance": [],
      "collapsed_sections": [
        "5Szc5ikeyJnQ",
        "-hFeojKt-Sry",
        "LBITtDWk4VLk",
        "CciMEPhX559N"
      ],
      "toc_visible": true
    },
    "kernelspec": {
      "name": "python3",
      "display_name": "Python 3"
    }
  },
  "cells": [
    {
      "cell_type": "markdown",
      "metadata": {
        "id": "5Szc5ikeyJnQ",
        "colab_type": "text"
      },
      "source": [
        "## Install [SpaCy](https://nlpforhackers.io/complete-guide-to-spacy/) (en)"
      ]
    },
    {
      "cell_type": "code",
      "metadata": {
        "id": "MFtNkofAgzR9",
        "colab_type": "code",
        "colab": {
          "base_uri": "https://localhost:8080/",
          "height": 0
        },
        "outputId": "0c7ec68b-3194-445b-8f1d-fc7cc107791e"
      },
      "source": [
        "!pip install spacy==v2.2.4"
      ],
      "execution_count": 1,
      "outputs": [
        {
          "output_type": "stream",
          "text": [
            "Requirement already satisfied: spacy==v2.2.4 in /usr/local/lib/python3.6/dist-packages (2.2.4)\n",
            "Requirement already satisfied: cymem<2.1.0,>=2.0.2 in /usr/local/lib/python3.6/dist-packages (from spacy==v2.2.4) (2.0.3)\n",
            "Requirement already satisfied: catalogue<1.1.0,>=0.0.7 in /usr/local/lib/python3.6/dist-packages (from spacy==v2.2.4) (1.0.0)\n",
            "Requirement already satisfied: plac<1.2.0,>=0.9.6 in /usr/local/lib/python3.6/dist-packages (from spacy==v2.2.4) (1.1.3)\n",
            "Requirement already satisfied: wasabi<1.1.0,>=0.4.0 in /usr/local/lib/python3.6/dist-packages (from spacy==v2.2.4) (0.8.0)\n",
            "Requirement already satisfied: blis<0.5.0,>=0.4.0 in /usr/local/lib/python3.6/dist-packages (from spacy==v2.2.4) (0.4.1)\n",
            "Requirement already satisfied: thinc==7.4.0 in /usr/local/lib/python3.6/dist-packages (from spacy==v2.2.4) (7.4.0)\n",
            "Requirement already satisfied: preshed<3.1.0,>=3.0.2 in /usr/local/lib/python3.6/dist-packages (from spacy==v2.2.4) (3.0.2)\n",
            "Requirement already satisfied: tqdm<5.0.0,>=4.38.0 in /usr/local/lib/python3.6/dist-packages (from spacy==v2.2.4) (4.41.1)\n",
            "Requirement already satisfied: numpy>=1.15.0 in /usr/local/lib/python3.6/dist-packages (from spacy==v2.2.4) (1.18.5)\n",
            "Requirement already satisfied: requests<3.0.0,>=2.13.0 in /usr/local/lib/python3.6/dist-packages (from spacy==v2.2.4) (2.23.0)\n",
            "Requirement already satisfied: setuptools in /usr/local/lib/python3.6/dist-packages (from spacy==v2.2.4) (50.3.0)\n",
            "Requirement already satisfied: murmurhash<1.1.0,>=0.28.0 in /usr/local/lib/python3.6/dist-packages (from spacy==v2.2.4) (1.0.2)\n",
            "Requirement already satisfied: srsly<1.1.0,>=1.0.2 in /usr/local/lib/python3.6/dist-packages (from spacy==v2.2.4) (1.0.2)\n",
            "Requirement already satisfied: importlib-metadata>=0.20; python_version < \"3.8\" in /usr/local/lib/python3.6/dist-packages (from catalogue<1.1.0,>=0.0.7->spacy==v2.2.4) (1.7.0)\n",
            "Requirement already satisfied: chardet<4,>=3.0.2 in /usr/local/lib/python3.6/dist-packages (from requests<3.0.0,>=2.13.0->spacy==v2.2.4) (3.0.4)\n",
            "Requirement already satisfied: idna<3,>=2.5 in /usr/local/lib/python3.6/dist-packages (from requests<3.0.0,>=2.13.0->spacy==v2.2.4) (2.10)\n",
            "Requirement already satisfied: certifi>=2017.4.17 in /usr/local/lib/python3.6/dist-packages (from requests<3.0.0,>=2.13.0->spacy==v2.2.4) (2020.6.20)\n",
            "Requirement already satisfied: urllib3!=1.25.0,!=1.25.1,<1.26,>=1.21.1 in /usr/local/lib/python3.6/dist-packages (from requests<3.0.0,>=2.13.0->spacy==v2.2.4) (1.24.3)\n",
            "Requirement already satisfied: zipp>=0.5 in /usr/local/lib/python3.6/dist-packages (from importlib-metadata>=0.20; python_version < \"3.8\"->catalogue<1.1.0,>=0.0.7->spacy==v2.2.4) (3.1.0)\n"
          ],
          "name": "stdout"
        }
      ]
    },
    {
      "cell_type": "code",
      "metadata": {
        "id": "eJCArvMXBvbQ",
        "colab_type": "code",
        "colab": {
          "base_uri": "https://localhost:8080/",
          "height": 0
        },
        "outputId": "1b256a2a-3f03-4ac0-e741-acb62170c6df"
      },
      "source": [
        "!python -m spacy download en"
      ],
      "execution_count": 2,
      "outputs": [
        {
          "output_type": "stream",
          "text": [
            "Requirement already satisfied: en_core_web_sm==2.2.5 from https://github.com/explosion/spacy-models/releases/download/en_core_web_sm-2.2.5/en_core_web_sm-2.2.5.tar.gz#egg=en_core_web_sm==2.2.5 in /usr/local/lib/python3.6/dist-packages (2.2.5)\n",
            "Requirement already satisfied: spacy>=2.2.2 in /usr/local/lib/python3.6/dist-packages (from en_core_web_sm==2.2.5) (2.2.4)\n",
            "Requirement already satisfied: srsly<1.1.0,>=1.0.2 in /usr/local/lib/python3.6/dist-packages (from spacy>=2.2.2->en_core_web_sm==2.2.5) (1.0.2)\n",
            "Requirement already satisfied: cymem<2.1.0,>=2.0.2 in /usr/local/lib/python3.6/dist-packages (from spacy>=2.2.2->en_core_web_sm==2.2.5) (2.0.3)\n",
            "Requirement already satisfied: tqdm<5.0.0,>=4.38.0 in /usr/local/lib/python3.6/dist-packages (from spacy>=2.2.2->en_core_web_sm==2.2.5) (4.41.1)\n",
            "Requirement already satisfied: thinc==7.4.0 in /usr/local/lib/python3.6/dist-packages (from spacy>=2.2.2->en_core_web_sm==2.2.5) (7.4.0)\n",
            "Requirement already satisfied: preshed<3.1.0,>=3.0.2 in /usr/local/lib/python3.6/dist-packages (from spacy>=2.2.2->en_core_web_sm==2.2.5) (3.0.2)\n",
            "Requirement already satisfied: setuptools in /usr/local/lib/python3.6/dist-packages (from spacy>=2.2.2->en_core_web_sm==2.2.5) (50.3.0)\n",
            "Requirement already satisfied: numpy>=1.15.0 in /usr/local/lib/python3.6/dist-packages (from spacy>=2.2.2->en_core_web_sm==2.2.5) (1.18.5)\n",
            "Requirement already satisfied: requests<3.0.0,>=2.13.0 in /usr/local/lib/python3.6/dist-packages (from spacy>=2.2.2->en_core_web_sm==2.2.5) (2.23.0)\n",
            "Requirement already satisfied: plac<1.2.0,>=0.9.6 in /usr/local/lib/python3.6/dist-packages (from spacy>=2.2.2->en_core_web_sm==2.2.5) (1.1.3)\n",
            "Requirement already satisfied: wasabi<1.1.0,>=0.4.0 in /usr/local/lib/python3.6/dist-packages (from spacy>=2.2.2->en_core_web_sm==2.2.5) (0.8.0)\n",
            "Requirement already satisfied: catalogue<1.1.0,>=0.0.7 in /usr/local/lib/python3.6/dist-packages (from spacy>=2.2.2->en_core_web_sm==2.2.5) (1.0.0)\n",
            "Requirement already satisfied: murmurhash<1.1.0,>=0.28.0 in /usr/local/lib/python3.6/dist-packages (from spacy>=2.2.2->en_core_web_sm==2.2.5) (1.0.2)\n",
            "Requirement already satisfied: blis<0.5.0,>=0.4.0 in /usr/local/lib/python3.6/dist-packages (from spacy>=2.2.2->en_core_web_sm==2.2.5) (0.4.1)\n",
            "Requirement already satisfied: urllib3!=1.25.0,!=1.25.1,<1.26,>=1.21.1 in /usr/local/lib/python3.6/dist-packages (from requests<3.0.0,>=2.13.0->spacy>=2.2.2->en_core_web_sm==2.2.5) (1.24.3)\n",
            "Requirement already satisfied: chardet<4,>=3.0.2 in /usr/local/lib/python3.6/dist-packages (from requests<3.0.0,>=2.13.0->spacy>=2.2.2->en_core_web_sm==2.2.5) (3.0.4)\n",
            "Requirement already satisfied: certifi>=2017.4.17 in /usr/local/lib/python3.6/dist-packages (from requests<3.0.0,>=2.13.0->spacy>=2.2.2->en_core_web_sm==2.2.5) (2020.6.20)\n",
            "Requirement already satisfied: idna<3,>=2.5 in /usr/local/lib/python3.6/dist-packages (from requests<3.0.0,>=2.13.0->spacy>=2.2.2->en_core_web_sm==2.2.5) (2.10)\n",
            "Requirement already satisfied: importlib-metadata>=0.20; python_version < \"3.8\" in /usr/local/lib/python3.6/dist-packages (from catalogue<1.1.0,>=0.0.7->spacy>=2.2.2->en_core_web_sm==2.2.5) (1.7.0)\n",
            "Requirement already satisfied: zipp>=0.5 in /usr/local/lib/python3.6/dist-packages (from importlib-metadata>=0.20; python_version < \"3.8\"->catalogue<1.1.0,>=0.0.7->spacy>=2.2.2->en_core_web_sm==2.2.5) (3.1.0)\n",
            "\u001b[38;5;2m✔ Download and installation successful\u001b[0m\n",
            "You can now load the model via spacy.load('en_core_web_sm')\n",
            "\u001b[38;5;2m✔ Linking successful\u001b[0m\n",
            "/usr/local/lib/python3.6/dist-packages/en_core_web_sm -->\n",
            "/usr/local/lib/python3.6/dist-packages/spacy/data/en\n",
            "You can now load the model via spacy.load('en')\n"
          ],
          "name": "stdout"
        }
      ]
    },
    {
      "cell_type": "markdown",
      "metadata": {
        "id": "-hFeojKt-Sry",
        "colab_type": "text"
      },
      "source": [
        "# Import Spacy and View versions"
      ]
    },
    {
      "cell_type": "code",
      "metadata": {
        "id": "uOO-ZwJZ-nzQ",
        "colab_type": "code",
        "colab": {}
      },
      "source": [
        "import spacy\n",
        "from spacy import displacy #for visualization"
      ],
      "execution_count": 6,
      "outputs": []
    },
    {
      "cell_type": "code",
      "metadata": {
        "id": "UUyd7RUZ-Yk0",
        "colab_type": "code",
        "colab": {
          "base_uri": "https://localhost:8080/",
          "height": 0
        },
        "outputId": "a3d00952-2e71-4974-cfa4-8190800846fb"
      },
      "source": [
        "spacy.info()"
      ],
      "execution_count": 7,
      "outputs": [
        {
          "output_type": "stream",
          "text": [
            "\u001b[1m\n",
            "============================== Info about spaCy ==============================\u001b[0m\n",
            "\n",
            "spaCy version    2.2.4                         \n",
            "Location         /usr/local/lib/python3.6/dist-packages/spacy\n",
            "Platform         Linux-4.19.112+-x86_64-with-Ubuntu-18.04-bionic\n",
            "Python version   3.6.9                         \n",
            "Models           en                            \n",
            "\n"
          ],
          "name": "stdout"
        },
        {
          "output_type": "execute_result",
          "data": {
            "text/plain": [
              "{'Location': '/usr/local/lib/python3.6/dist-packages/spacy',\n",
              " 'Models': 'en',\n",
              " 'Platform': 'Linux-4.19.112+-x86_64-with-Ubuntu-18.04-bionic',\n",
              " 'Python version': '3.6.9',\n",
              " 'spaCy version': '2.2.4'}"
            ]
          },
          "metadata": {
            "tags": []
          },
          "execution_count": 7
        }
      ]
    },
    {
      "cell_type": "markdown",
      "metadata": {
        "id": "LBITtDWk4VLk",
        "colab_type": "text"
      },
      "source": [
        "# Example of Spacy NER usage with pretrained model"
      ]
    },
    {
      "cell_type": "markdown",
      "metadata": {
        "id": "GNAQcavrITdN",
        "colab_type": "text"
      },
      "source": [
        "Spacy Entity Types in pre-trained spacy model. Putting them here to compare with those we'll receive after training on Conll2003"
      ]
    },
    {
      "cell_type": "code",
      "metadata": {
        "id": "1xjRqn1PB0ml",
        "colab_type": "code",
        "colab": {
          "base_uri": "https://localhost:8080/",
          "height": 0
        },
        "outputId": "30090055-ccc3-470c-eb87-9f8c570da95f"
      },
      "source": [
        "nlp_pretrained = spacy.load('en')\n",
        "doc = nlp_pretrained(u'Ronald just bought 2 shares at 9 a.m. because the stock went up 30% in just 2 days according to the WSJ. Us is a country in north America')\n",
        "for ent in doc.ents:\n",
        "    print(ent.text, ent.label_)\n",
        "displacy.render(doc, style='ent', jupyter=True)"
      ],
      "execution_count": 8,
      "outputs": [
        {
          "output_type": "stream",
          "text": [
            "Ronald PERSON\n",
            "2 CARDINAL\n",
            "9 a.m. TIME\n",
            "30% PERCENT\n",
            "just 2 days DATE\n",
            "WSJ ORG\n",
            "Us GPE\n",
            "north America LOC\n"
          ],
          "name": "stdout"
        },
        {
          "output_type": "display_data",
          "data": {
            "text/html": [
              "<span class=\"tex2jax_ignore\"><div class=\"entities\" style=\"line-height: 2.5; direction: ltr\">\n",
              "<mark class=\"entity\" style=\"background: #aa9cfc; padding: 0.45em 0.6em; margin: 0 0.25em; line-height: 1; border-radius: 0.35em;\">\n",
              "    Ronald\n",
              "    <span style=\"font-size: 0.8em; font-weight: bold; line-height: 1; border-radius: 0.35em; text-transform: uppercase; vertical-align: middle; margin-left: 0.5rem\">PERSON</span>\n",
              "</mark>\n",
              " just bought \n",
              "<mark class=\"entity\" style=\"background: #e4e7d2; padding: 0.45em 0.6em; margin: 0 0.25em; line-height: 1; border-radius: 0.35em;\">\n",
              "    2\n",
              "    <span style=\"font-size: 0.8em; font-weight: bold; line-height: 1; border-radius: 0.35em; text-transform: uppercase; vertical-align: middle; margin-left: 0.5rem\">CARDINAL</span>\n",
              "</mark>\n",
              " shares at \n",
              "<mark class=\"entity\" style=\"background: #bfe1d9; padding: 0.45em 0.6em; margin: 0 0.25em; line-height: 1; border-radius: 0.35em;\">\n",
              "    9 a.m.\n",
              "    <span style=\"font-size: 0.8em; font-weight: bold; line-height: 1; border-radius: 0.35em; text-transform: uppercase; vertical-align: middle; margin-left: 0.5rem\">TIME</span>\n",
              "</mark>\n",
              " because the stock went up \n",
              "<mark class=\"entity\" style=\"background: #e4e7d2; padding: 0.45em 0.6em; margin: 0 0.25em; line-height: 1; border-radius: 0.35em;\">\n",
              "    30%\n",
              "    <span style=\"font-size: 0.8em; font-weight: bold; line-height: 1; border-radius: 0.35em; text-transform: uppercase; vertical-align: middle; margin-left: 0.5rem\">PERCENT</span>\n",
              "</mark>\n",
              " in \n",
              "<mark class=\"entity\" style=\"background: #bfe1d9; padding: 0.45em 0.6em; margin: 0 0.25em; line-height: 1; border-radius: 0.35em;\">\n",
              "    just 2 days\n",
              "    <span style=\"font-size: 0.8em; font-weight: bold; line-height: 1; border-radius: 0.35em; text-transform: uppercase; vertical-align: middle; margin-left: 0.5rem\">DATE</span>\n",
              "</mark>\n",
              " according to the \n",
              "<mark class=\"entity\" style=\"background: #7aecec; padding: 0.45em 0.6em; margin: 0 0.25em; line-height: 1; border-radius: 0.35em;\">\n",
              "    WSJ\n",
              "    <span style=\"font-size: 0.8em; font-weight: bold; line-height: 1; border-radius: 0.35em; text-transform: uppercase; vertical-align: middle; margin-left: 0.5rem\">ORG</span>\n",
              "</mark>\n",
              ". \n",
              "<mark class=\"entity\" style=\"background: #feca74; padding: 0.45em 0.6em; margin: 0 0.25em; line-height: 1; border-radius: 0.35em;\">\n",
              "    Us\n",
              "    <span style=\"font-size: 0.8em; font-weight: bold; line-height: 1; border-radius: 0.35em; text-transform: uppercase; vertical-align: middle; margin-left: 0.5rem\">GPE</span>\n",
              "</mark>\n",
              " is a country in \n",
              "<mark class=\"entity\" style=\"background: #ff9561; padding: 0.45em 0.6em; margin: 0 0.25em; line-height: 1; border-radius: 0.35em;\">\n",
              "    north America\n",
              "    <span style=\"font-size: 0.8em; font-weight: bold; line-height: 1; border-radius: 0.35em; text-transform: uppercase; vertical-align: middle; margin-left: 0.5rem\">LOC</span>\n",
              "</mark>\n",
              "</div></span>"
            ],
            "text/plain": [
              "<IPython.core.display.HTML object>"
            ]
          },
          "metadata": {
            "tags": []
          }
        }
      ]
    },
    {
      "cell_type": "markdown",
      "metadata": {
        "id": "nW-06_V_BS4J",
        "colab_type": "text"
      },
      "source": [
        ""
      ]
    },
    {
      "cell_type": "markdown",
      "metadata": {
        "id": "pJQi9Se_AInQ",
        "colab_type": "text"
      },
      "source": [
        "The most convenient way is training a spacy model from cli, docs: https://spacy.io/api/cli#train"
      ]
    },
    {
      "cell_type": "markdown",
      "metadata": {
        "id": "CciMEPhX559N",
        "colab_type": "text"
      },
      "source": [
        "# Upload Conll2003 data"
      ]
    },
    {
      "cell_type": "markdown",
      "metadata": {
        "id": "CGaOK-w6GSO7",
        "colab_type": "text"
      },
      "source": [
        "Upload train.txt, valid.txt, test.txt files (training, validation and test parts of the Conll2003)"
      ]
    },
    {
      "cell_type": "code",
      "metadata": {
        "id": "9Zy7C1jRNLNG",
        "colab_type": "code",
        "colab": {}
      },
      "source": [
        "from google.colab import files\n",
        "#files.upload() # uncomment this line if you prefer to upload the dataset from your fs"
      ],
      "execution_count": 9,
      "outputs": []
    },
    {
      "cell_type": "code",
      "metadata": {
        "id": "m7K3wMWaagpT",
        "colab_type": "code",
        "colab": {
          "base_uri": "https://localhost:8080/",
          "height": 0
        },
        "outputId": "926ca206-5282-496c-98e4-d7d632be0688"
      },
      "source": [
        "# download the train, valid and test files from github:\n",
        "!wget https://raw.githubusercontent.com/natalyasegal/spacy_ner_conll2003_en/master/ner_proj/data/train.txt\n",
        "!wget https://raw.githubusercontent.com/natalyasegal/spacy_ner_conll2003_en/master/ner_proj/data/valid.txt\n",
        "!wget https://raw.githubusercontent.com/natalyasegal/spacy_ner_conll2003_en/master/ner_proj/data/test.txt"
      ],
      "execution_count": 10,
      "outputs": [
        {
          "output_type": "stream",
          "text": [
            "--2020-09-28 12:46:44--  https://raw.githubusercontent.com/natalyasegal/spacy_ner_conll2003_en/master/ner_proj/data/train.txt\n",
            "Resolving raw.githubusercontent.com (raw.githubusercontent.com)... 151.101.0.133, 151.101.64.133, 151.101.128.133, ...\n",
            "Connecting to raw.githubusercontent.com (raw.githubusercontent.com)|151.101.0.133|:443... connected.\n",
            "HTTP request sent, awaiting response... 200 OK\n",
            "Length: 3283418 (3.1M) [text/plain]\n",
            "Saving to: ‘train.txt.1’\n",
            "\n",
            "train.txt.1         100%[===================>]   3.13M  10.6MB/s    in 0.3s    \n",
            "\n",
            "2020-09-28 12:46:45 (10.6 MB/s) - ‘train.txt.1’ saved [3283418/3283418]\n",
            "\n",
            "--2020-09-28 12:46:45--  https://raw.githubusercontent.com/natalyasegal/spacy_ner_conll2003_en/master/ner_proj/data/valid.txt\n",
            "Resolving raw.githubusercontent.com (raw.githubusercontent.com)... 151.101.0.133, 151.101.64.133, 151.101.128.133, ...\n",
            "Connecting to raw.githubusercontent.com (raw.githubusercontent.com)|151.101.0.133|:443... connected.\n",
            "HTTP request sent, awaiting response... 200 OK\n",
            "Length: 827441 (808K) [text/plain]\n",
            "Saving to: ‘valid.txt.1’\n",
            "\n",
            "valid.txt.1         100%[===================>] 808.05K  --.-KB/s    in 0.1s    \n",
            "\n",
            "2020-09-28 12:46:45 (7.02 MB/s) - ‘valid.txt.1’ saved [827441/827441]\n",
            "\n",
            "--2020-09-28 12:46:45--  https://raw.githubusercontent.com/natalyasegal/spacy_ner_conll2003_en/master/ner_proj/data/test.txt\n",
            "Resolving raw.githubusercontent.com (raw.githubusercontent.com)... 151.101.0.133, 151.101.64.133, 151.101.128.133, ...\n",
            "Connecting to raw.githubusercontent.com (raw.githubusercontent.com)|151.101.0.133|:443... connected.\n",
            "HTTP request sent, awaiting response... 200 OK\n",
            "Length: 748093 (731K) [text/plain]\n",
            "Saving to: ‘test.txt.1’\n",
            "\n",
            "test.txt.1          100%[===================>] 730.56K  --.-KB/s    in 0.1s    \n",
            "\n",
            "2020-09-28 12:46:45 (6.73 MB/s) - ‘test.txt.1’ saved [748093/748093]\n",
            "\n"
          ],
          "name": "stdout"
        }
      ]
    },
    {
      "cell_type": "code",
      "metadata": {
        "id": "wKGLhhl8x1m-",
        "colab_type": "code",
        "colab": {
          "base_uri": "https://localhost:8080/",
          "height": 0
        },
        "outputId": "013a131a-1171-4ee4-9e3e-0d8f70819db2"
      },
      "source": [
        "ls -la"
      ],
      "execution_count": 11,
      "outputs": [
        {
          "output_type": "stream",
          "text": [
            "total 9528\n",
            "drwxr-xr-x 1 root root    4096 Sep 28 12:46 \u001b[0m\u001b[01;34m.\u001b[0m/\n",
            "drwxr-xr-x 1 root root    4096 Sep 28 09:47 \u001b[01;34m..\u001b[0m/\n",
            "drwxr-xr-x 1 root root    4096 Sep 18 16:15 \u001b[01;34m.config\u001b[0m/\n",
            "drwxr-xr-x 2 root root    4096 Sep 28 12:44 \u001b[01;34mconll2003_json\u001b[0m/\n",
            "drwxr-xr-x 2 root root    4096 Sep 28 12:44 \u001b[01;34mns_models2\u001b[0m/\n",
            "drwxr-xr-x 1 root root    4096 Sep 16 16:29 \u001b[01;34msample_data\u001b[0m/\n",
            "-rw-r--r-- 1 root root  748093 Sep 28 12:44 test.txt\n",
            "-rw-r--r-- 1 root root  748093 Sep 28 12:46 test.txt.1\n",
            "-rw-r--r-- 1 root root 3283418 Sep 28 12:44 train.txt\n",
            "-rw-r--r-- 1 root root 3283418 Sep 28 12:46 train.txt.1\n",
            "-rw-r--r-- 1 root root  827441 Sep 28 12:44 valid.txt\n",
            "-rw-r--r-- 1 root root  827441 Sep 28 12:46 valid.txt.1\n"
          ],
          "name": "stdout"
        }
      ]
    },
    {
      "cell_type": "markdown",
      "metadata": {
        "id": "-aecJR5p_CGc",
        "colab_type": "text"
      },
      "source": [
        " Alternatively the dataset files can be taken from https://github.com/davidsbatista/NER-datasets/tree/master/CONLL2003/"
      ]
    },
    {
      "cell_type": "markdown",
      "metadata": {
        "id": "D1dnAqUd1usx",
        "colab_type": "text"
      },
      "source": [
        "# Convert training and validation data"
      ]
    },
    {
      "cell_type": "code",
      "metadata": {
        "id": "ooy-labdOIu-",
        "colab_type": "code",
        "colab": {
          "base_uri": "https://localhost:8080/",
          "height": 0
        },
        "outputId": "3a4fbb71-5659-4187-b1a0-b0601cea358a"
      },
      "source": [
        "!mkdir conll2003_json"
      ],
      "execution_count": 12,
      "outputs": [
        {
          "output_type": "stream",
          "text": [
            "mkdir: cannot create directory ‘conll2003_json’: File exists\n"
          ],
          "name": "stdout"
        }
      ]
    },
    {
      "cell_type": "code",
      "metadata": {
        "id": "NtVJWuv42RSt",
        "colab_type": "code",
        "colab": {
          "base_uri": "https://localhost:8080/",
          "height": 0
        },
        "outputId": "eb5ccc46-66f4-4ade-85d3-79930efd2073"
      },
      "source": [
        "!python -m spacy convert -c ner -b en -n 10 train.txt conll2003_json\n",
        "!python -m spacy convert -c ner -b en -n 10 -l en valid.txt conll2003_json"
      ],
      "execution_count": 13,
      "outputs": [
        {
          "output_type": "stream",
          "text": [
            "\u001b[38;5;4mℹ Auto-detected token-per-line NER format\u001b[0m\n",
            "\u001b[38;5;4mℹ Grouping every 10 sentences into a document.\u001b[0m\n",
            "\u001b[38;5;2m✔ Generated output file (1499 documents): conll2003_json/train.json\u001b[0m\n",
            "\u001b[38;5;4mℹ Auto-detected token-per-line NER format\u001b[0m\n",
            "\u001b[38;5;4mℹ Grouping every 10 sentences into a document.\u001b[0m\n",
            "\u001b[38;5;2m✔ Generated output file (347 documents): conll2003_json/valid.json\u001b[0m\n"
          ],
          "name": "stdout"
        }
      ]
    },
    {
      "cell_type": "code",
      "metadata": {
        "id": "RoZaXdzE2wnf",
        "colab_type": "code",
        "colab": {
          "base_uri": "https://localhost:8080/",
          "height": 0
        },
        "outputId": "0b4727f7-b0a0-4399-eed0-fa415140e848"
      },
      "source": [
        "ls conll2003_json/"
      ],
      "execution_count": 14,
      "outputs": [
        {
          "output_type": "stream",
          "text": [
            "train.json  valid.json\n"
          ],
          "name": "stdout"
        }
      ]
    },
    {
      "cell_type": "markdown",
      "metadata": {
        "id": "ACWU5fbhLG7I",
        "colab_type": "text"
      },
      "source": [
        "# Debug resulting json training and validation data"
      ]
    },
    {
      "cell_type": "code",
      "metadata": {
        "id": "4x0SyAbkKD3R",
        "colab_type": "code",
        "colab": {
          "base_uri": "https://localhost:8080/",
          "height": 941
        },
        "outputId": "729db04e-626b-4ac7-c66e-e54695cc41ee"
      },
      "source": [
        "!python -m spacy debug-data en conll2003_json/train.json conll2003_json/valid.json -b en -V "
      ],
      "execution_count": 15,
      "outputs": [
        {
          "output_type": "stream",
          "text": [
            "\u001b[1m\n",
            "=========================== Data format validation ===========================\u001b[0m\n",
            "\u001b[2K\u001b[38;5;2m✔ Corpus is loadable\u001b[0m\n",
            "\u001b[1m\n",
            "=============================== Training stats ===============================\u001b[0m\n",
            "Training pipeline: tagger, parser, ner\n",
            "Starting with base model 'en'\n",
            "1499 training docs\n",
            "347 evaluation docs\n",
            "\u001b[38;5;2m✔ No overlap between training and evaluation data\u001b[0m\n",
            "\u001b[1m\n",
            "============================== Vocab & Vectors ==============================\u001b[0m\n",
            "\u001b[38;5;4mℹ 204567 total words in the data (23624 unique)\u001b[0m\n",
            "10 most common words: '.' (7374), ',' (7290), 'the' (7243), 'of' (3751), 'in'\n",
            "(3398), 'to' (3382), 'a' (2994), '(' (2861), ')' (2861), 'and' (2838)\n",
            "\u001b[38;5;4mℹ No word vectors present in the model\u001b[0m\n",
            "\u001b[1m\n",
            "========================== Named Entity Recognition ==========================\u001b[0m\n",
            "\u001b[38;5;4mℹ 2 new labels, 2 existing labels\u001b[0m\n",
            "0 missing values (tokens with '-' label)\n",
            "New: 'LOC' (7140), 'PER' (6600), 'ORG' (6321), 'MISC' (3438)\n",
            "Existing: 'ORG', 'LOC'\n",
            "\u001b[38;5;3m⚠ 15 entity span(s) with punctuation\u001b[0m\n",
            "\u001b[38;5;2m✔ Good amount of examples for all labels\u001b[0m\n",
            "\u001b[38;5;2m✔ Examples without occurrences available for all labels\u001b[0m\n",
            "\u001b[38;5;2m✔ No entities consisting of or starting/ending with whitespace\u001b[0m\n",
            "Entity spans consisting of or starting/ending with punctuation can not be\n",
            "trained with a noise level > 0.\n",
            "\u001b[1m\n",
            "=========================== Part-of-speech Tagging ===========================\u001b[0m\n",
            "\u001b[38;5;4mℹ 46 labels in data (50 labels in tag map)\u001b[0m\n",
            "'NNP' (34392), 'NN' (23899), 'CD' (19704), 'IN' (19064), 'DT' (13453), 'JJ'\n",
            "(11831), 'NNS' (9903), 'VBD' (8293), '.' (7389), ',' (7291), 'VB' (4252), 'VBN'\n",
            "(4105), 'RB' (3975), 'CC' (3653), 'TO' (3469), 'PRP' (3163), '(' (2866), ')'\n",
            "(2866), 'VBG' (2585), 'VBZ' (2426), ':' (2386), '\"' (2178), 'POS' (1553), 'PRP$'\n",
            "(1520), 'VBP' (1436), 'MD' (1199), '-X-' (946), 'NNPS' (684), 'WP' (528), 'RP'\n",
            "(528), 'WDT' (506), 'SYM' (439), '$' (427), 'WRB' (384), 'JJR' (382), 'JJS'\n",
            "(254), 'FW' (166), 'RBR' (163), 'EX' (136), 'RBS' (35), '''' (35), 'PDT' (33),\n",
            "'UH' (30), 'WP$' (23), 'LS' (13), 'NN|SYM' (4)\n",
            "\u001b[38;5;1m✘ Label '\"' not found in tag map for language 'en'\u001b[0m\n",
            "\u001b[38;5;1m✘ Label '-X-' not found in tag map for language 'en'\u001b[0m\n",
            "\u001b[38;5;1m✘ Label '(' not found in tag map for language 'en'\u001b[0m\n",
            "\u001b[38;5;1m✘ Label ')' not found in tag map for language 'en'\u001b[0m\n",
            "\u001b[38;5;1m✘ Label 'NN|SYM' not found in tag map for language 'en'\u001b[0m\n",
            "\u001b[1m\n",
            "============================= Dependency Parsing =============================\u001b[0m\n",
            "\u001b[38;5;4mℹ Found 204567 sentences with an average length of 1.0 words.\u001b[0m\n",
            "\u001b[38;5;4mℹ 1 label in train data\u001b[0m\n",
            "\u001b[38;5;4mℹ 1 label in projectivized train data\u001b[0m\n",
            "'' (204567)\n",
            "\u001b[1m\n",
            "================================== Summary ==================================\u001b[0m\n",
            "\u001b[38;5;2m✔ 5 checks passed\u001b[0m\n",
            "\u001b[38;5;3m⚠ 1 warning\u001b[0m\n",
            "\u001b[38;5;1m✘ 5 errors\u001b[0m\n"
          ],
          "name": "stdout"
        }
      ]
    },
    {
      "cell_type": "markdown",
      "metadata": {
        "id": "-Sh1BdAE6I2w",
        "colab_type": "text"
      },
      "source": [
        "# Train Spacy NER model on Coll2003 "
      ]
    },
    {
      "cell_type": "markdown",
      "metadata": {
        "id": "GAP7uSBuEN57",
        "colab_type": "text"
      },
      "source": [
        "Train spacy ner part of Spacy pypeline with data from the train and valid, converted above"
      ]
    },
    {
      "cell_type": "code",
      "metadata": {
        "id": "M8BFZdsc7zfL",
        "colab_type": "code",
        "colab": {
          "base_uri": "https://localhost:8080/",
          "height": 689
        },
        "outputId": "6e91d3f8-bcb5-4f78-e59d-8ebc904581ae"
      },
      "source": [
        "!python -m spacy train en ns_models2 conll2003_json/train.json conll2003_json/valid.json -p ner"
      ],
      "execution_count": 16,
      "outputs": [
        {
          "output_type": "stream",
          "text": [
            "Training pipeline: ['ner']\n",
            "Starting with blank model 'en'\n",
            "Counting training words (limit=0)\n",
            "\n",
            "Itn  NER Loss   NER P   NER R   NER F   Token %  CPU WPS\n",
            "---  ---------  ------  ------  ------  -------  -------\n",
            "  1  21346.434  79.993  79.939  79.966  100.000    25079\n",
            "  2  10178.730  84.821  84.450  84.635  100.000    25726\n",
            "  3   7131.814  86.371  86.065  86.218  100.000    21971\n",
            "  4   5446.672  87.411  86.940  87.175  100.000    26066\n",
            "  5   4135.961  87.857  87.428  87.642  100.000    25618\n",
            "  6   3551.136  88.005  87.546  87.775  100.000    26047\n",
            "  7   2995.955  88.131  87.849  87.990  100.000    25537\n",
            "  8   2943.858  88.130  87.715  87.922  100.000    25387\n",
            "  9   2551.111  87.996  87.715  87.855  100.000    25524\n",
            " 10   2335.410  88.028  87.731  87.879  100.000    25827\n",
            " 11   2034.013  88.150  87.883  88.016  100.000    25749\n",
            " 12   1967.503  87.943  87.765  87.854  100.000    25154\n",
            " 13   1929.714  88.165  87.883  88.024  100.000    25482\n",
            " 14   1784.500  88.123  87.782  87.952  100.000    25694\n",
            " 15   1601.738  88.078  87.900  87.989  100.000    25368\n",
            " 16   1549.853  88.027  87.849  87.938  100.000    25674\n",
            " 17   1551.489  88.120  87.883  88.001  100.000    25199\n",
            " 18   1605.091  88.154  87.917  88.035  100.000    25784\n",
            " 19   1520.729  88.209  87.883  88.046  100.000    25763\n",
            " 20   1204.614  88.332  88.169  88.251  100.000    25535\n",
            " 21   1303.352  88.122  87.900  88.011  100.000    25734\n",
            " 22   1247.227  88.203  87.950  88.076  100.000    25561\n",
            " 23   1147.896  88.254  87.883  88.068  100.000    25279\n",
            " 24   1072.445  88.341  87.984  88.162  100.000    25435\n",
            " 25   1111.591  88.421  87.900  88.159  100.000    25421\n",
            " 26   1062.932  88.408  87.917  88.161  100.000    25539\n",
            " 27    995.715  88.464  88.018  88.240  100.000    25761\n",
            " 28   1039.379  88.536  88.118  88.327  100.000    25453\n",
            " 29    943.253  88.523  88.135  88.329  100.000    25591\n",
            " 30    961.432  88.439  87.933  88.186  100.000    25779\n",
            "\u001b[38;5;2m✔ Saved model to output directory\u001b[0m\n",
            "ns_models2/model-final\n",
            "\u001b[2K\u001b[38;5;2m✔ Created best model\u001b[0m\n",
            "ns_models2/model-best\n"
          ],
          "name": "stdout"
        }
      ]
    },
    {
      "cell_type": "markdown",
      "metadata": {
        "id": "ASbr_cBt5Rbu",
        "colab_type": "text"
      },
      "source": [
        "# Evaluation"
      ]
    },
    {
      "cell_type": "markdown",
      "metadata": {
        "id": "Px3x3ksFEihd",
        "colab_type": "text"
      },
      "source": [
        "At this stage we'll nedd our test data for model evaluation, so we convert it to json"
      ]
    },
    {
      "cell_type": "code",
      "metadata": {
        "id": "Z_pCaAz-l5my",
        "colab_type": "code",
        "colab": {
          "base_uri": "https://localhost:8080/",
          "height": 67
        },
        "outputId": "07eb4eb2-afde-48a4-92ec-4ca3dc9ae259"
      },
      "source": [
        "!python -m spacy convert -c ner -n 10  test.txt conll2003_json"
      ],
      "execution_count": 26,
      "outputs": [
        {
          "output_type": "stream",
          "text": [
            "\u001b[38;5;4mℹ Auto-detected token-per-line NER format\u001b[0m\n",
            "\u001b[38;5;4mℹ Grouping every 10 sentences into a document.\u001b[0m\n",
            "\u001b[38;5;2m✔ Generated output file (369 documents): conll2003_json/test.json\u001b[0m\n"
          ],
          "name": "stdout"
        }
      ]
    },
    {
      "cell_type": "markdown",
      "metadata": {
        "id": "1UmT-c0n1wXl",
        "colab_type": "text"
      },
      "source": [
        "Make sure train and test data examples do not overlap"
      ]
    },
    {
      "cell_type": "code",
      "metadata": {
        "id": "dkm980gJ1lJp",
        "colab_type": "code",
        "colab": {
          "base_uri": "https://localhost:8080/",
          "height": 941
        },
        "outputId": "3f0bdf70-dad4-44f5-e878-da511bb89113"
      },
      "source": [
        "!python -m spacy debug-data en conll2003_json/train.json conll2003_json/test.json -b en -V "
      ],
      "execution_count": 27,
      "outputs": [
        {
          "output_type": "stream",
          "text": [
            "\u001b[1m\n",
            "=========================== Data format validation ===========================\u001b[0m\n",
            "\u001b[2K\u001b[38;5;2m✔ Corpus is loadable\u001b[0m\n",
            "\u001b[1m\n",
            "=============================== Training stats ===============================\u001b[0m\n",
            "Training pipeline: tagger, parser, ner\n",
            "Starting with base model 'en'\n",
            "1499 training docs\n",
            "369 evaluation docs\n",
            "\u001b[38;5;2m✔ No overlap between training and evaluation data\u001b[0m\n",
            "\u001b[1m\n",
            "============================== Vocab & Vectors ==============================\u001b[0m\n",
            "\u001b[38;5;4mℹ 204567 total words in the data (23624 unique)\u001b[0m\n",
            "10 most common words: '.' (7374), ',' (7290), 'the' (7243), 'of' (3751), 'in'\n",
            "(3398), 'to' (3382), 'a' (2994), '(' (2861), ')' (2861), 'and' (2838)\n",
            "\u001b[38;5;4mℹ No word vectors present in the model\u001b[0m\n",
            "\u001b[1m\n",
            "========================== Named Entity Recognition ==========================\u001b[0m\n",
            "\u001b[38;5;4mℹ 2 new labels, 2 existing labels\u001b[0m\n",
            "0 missing values (tokens with '-' label)\n",
            "New: 'LOC' (7140), 'PER' (6600), 'ORG' (6321), 'MISC' (3438)\n",
            "Existing: 'LOC', 'ORG'\n",
            "\u001b[38;5;3m⚠ 15 entity span(s) with punctuation\u001b[0m\n",
            "\u001b[38;5;2m✔ Good amount of examples for all labels\u001b[0m\n",
            "\u001b[38;5;2m✔ Examples without occurrences available for all labels\u001b[0m\n",
            "\u001b[38;5;2m✔ No entities consisting of or starting/ending with whitespace\u001b[0m\n",
            "Entity spans consisting of or starting/ending with punctuation can not be\n",
            "trained with a noise level > 0.\n",
            "\u001b[1m\n",
            "=========================== Part-of-speech Tagging ===========================\u001b[0m\n",
            "\u001b[38;5;4mℹ 46 labels in data (50 labels in tag map)\u001b[0m\n",
            "'NNP' (34392), 'NN' (23899), 'CD' (19704), 'IN' (19064), 'DT' (13453), 'JJ'\n",
            "(11831), 'NNS' (9903), 'VBD' (8293), '.' (7389), ',' (7291), 'VB' (4252), 'VBN'\n",
            "(4105), 'RB' (3975), 'CC' (3653), 'TO' (3469), 'PRP' (3163), '(' (2866), ')'\n",
            "(2866), 'VBG' (2585), 'VBZ' (2426), ':' (2386), '\"' (2178), 'POS' (1553), 'PRP$'\n",
            "(1520), 'VBP' (1436), 'MD' (1199), '-X-' (946), 'NNPS' (684), 'WP' (528), 'RP'\n",
            "(528), 'WDT' (506), 'SYM' (439), '$' (427), 'WRB' (384), 'JJR' (382), 'JJS'\n",
            "(254), 'FW' (166), 'RBR' (163), 'EX' (136), '''' (35), 'RBS' (35), 'PDT' (33),\n",
            "'UH' (30), 'WP$' (23), 'LS' (13), 'NN|SYM' (4)\n",
            "\u001b[38;5;1m✘ Label '(' not found in tag map for language 'en'\u001b[0m\n",
            "\u001b[38;5;1m✘ Label ')' not found in tag map for language 'en'\u001b[0m\n",
            "\u001b[38;5;1m✘ Label '\"' not found in tag map for language 'en'\u001b[0m\n",
            "\u001b[38;5;1m✘ Label '-X-' not found in tag map for language 'en'\u001b[0m\n",
            "\u001b[38;5;1m✘ Label 'NN|SYM' not found in tag map for language 'en'\u001b[0m\n",
            "\u001b[1m\n",
            "============================= Dependency Parsing =============================\u001b[0m\n",
            "\u001b[38;5;4mℹ Found 204567 sentences with an average length of 1.0 words.\u001b[0m\n",
            "\u001b[38;5;4mℹ 1 label in train data\u001b[0m\n",
            "\u001b[38;5;4mℹ 1 label in projectivized train data\u001b[0m\n",
            "'' (204567)\n",
            "\u001b[1m\n",
            "================================== Summary ==================================\u001b[0m\n",
            "\u001b[38;5;2m✔ 5 checks passed\u001b[0m\n",
            "\u001b[38;5;3m⚠ 1 warning\u001b[0m\n",
            "\u001b[38;5;1m✘ 5 errors\u001b[0m\n"
          ],
          "name": "stdout"
        }
      ]
    },
    {
      "cell_type": "markdown",
      "metadata": {
        "id": "FpjsVByu3gTL",
        "colab_type": "text"
      },
      "source": [
        "Evaluate precision (NER P), recall (NER R) and f score (NER F) of the best model option on our test set"
      ]
    },
    {
      "cell_type": "code",
      "metadata": {
        "id": "6YHSAxSCldBw",
        "colab_type": "code",
        "colab": {
          "base_uri": "https://localhost:8080/",
          "height": 269
        },
        "outputId": "9cc316ce-ea9d-4236-eaf5-be908b5680db"
      },
      "source": [
        "!python -m spacy evaluate ns_models2/model-best conll2003_json/test.json"
      ],
      "execution_count": 28,
      "outputs": [
        {
          "output_type": "stream",
          "text": [
            "\u001b[1m\n",
            "================================== Results ==================================\u001b[0m\n",
            "\n",
            "Time      1.82 s\n",
            "Words     46666 \n",
            "Words/s   25675 \n",
            "TOK       100.00\n",
            "POS       0.00  \n",
            "UAS       0.00  \n",
            "LAS       0.00  \n",
            "NER P     81.79 \n",
            "NER R     82.08 \n",
            "NER F     81.94 \n",
            "Textcat   0.00  \n",
            "\n"
          ],
          "name": "stdout"
        }
      ]
    },
    {
      "cell_type": "markdown",
      "metadata": {
        "id": "8xsNq-2y7i_n",
        "colab_type": "text"
      },
      "source": [
        "Results may differ between trainings, I'll put my 1st training resuts below for comparison."
      ]
    },
    {
      "cell_type": "markdown",
      "metadata": {
        "id": "TIbr7fHREyLr",
        "colab_type": "text"
      },
      "source": [
        "Results:\n",
        "\n",
        "---\n",
        "\n",
        "\n",
        "NER P     81.85 %\n",
        "NER R     82.42 %\n",
        "NER F     82.13 %\n",
        "Look slightly better then in https://github.com/Djia09/Named-Entity-Recognition-spaCy may be due to the used Spacy version"
      ]
    },
    {
      "cell_type": "markdown",
      "metadata": {
        "id": "uGZ3Cmzl9f8w",
        "colab_type": "text"
      },
      "source": [
        "# Generating a model package"
      ]
    },
    {
      "cell_type": "markdown",
      "metadata": {
        "id": "zcH5ZQzzA5pN",
        "colab_type": "text"
      },
      "source": [
        "The following step generages model package, more info: https://spacy.io/api/cli#package"
      ]
    },
    {
      "cell_type": "markdown",
      "metadata": {
        "id": "tJJjsAwAhERt",
        "colab_type": "text"
      },
      "source": [
        "Please note that we integrate shell comands with exclamation mark, more info: https://colab.research.google.com/github/jakevdp/PythonDataScienceHandbook/blob/master/notebooks/01.05-IPython-And-Shell-Commands.ipynb#scrollTo=01vD1Inmgwin"
      ]
    },
    {
      "cell_type": "code",
      "metadata": {
        "id": "_mMZYUMhhuUR",
        "colab_type": "code",
        "colab": {}
      },
      "source": [
        "!mkdir ns_model_out"
      ],
      "execution_count": 29,
      "outputs": []
    },
    {
      "cell_type": "code",
      "metadata": {
        "id": "TIEXH_283yoY",
        "colab_type": "code",
        "colab": {
          "base_uri": "https://localhost:8080/",
          "height": 101
        },
        "outputId": "23d3212f-b6d5-4884-c8a4-58e40f5fbbc8"
      },
      "source": [
        "!python -m spacy package -f  ns_models2/model-best ns_model_out"
      ],
      "execution_count": 30,
      "outputs": [
        {
          "output_type": "stream",
          "text": [
            "\u001b[38;5;2m✔ Loaded meta.json from file\u001b[0m\n",
            "ns_models2/model-best/meta.json\n",
            "\u001b[38;5;2m✔ Successfully created package 'en_model-0.0.0'\u001b[0m\n",
            "ns_model_out/en_model-0.0.0\n",
            "To build the package, run `python setup.py sdist` in this directory.\n"
          ],
          "name": "stdout"
        }
      ]
    },
    {
      "cell_type": "code",
      "metadata": {
        "id": "2rOH0Q5vTIRK",
        "colab_type": "code",
        "colab": {
          "base_uri": "https://localhost:8080/",
          "height": 34
        },
        "outputId": "b7308e21-a663-485c-d065-b399b4477b40"
      },
      "source": [
        "!ls ns_model_out/en_model-0.0.0"
      ],
      "execution_count": 31,
      "outputs": [
        {
          "output_type": "stream",
          "text": [
            "en_model  MANIFEST.in  meta.json  setup.py\n"
          ],
          "name": "stdout"
        }
      ]
    },
    {
      "cell_type": "code",
      "metadata": {
        "id": "ibdiStCOJ_ku",
        "colab_type": "code",
        "colab": {
          "base_uri": "https://localhost:8080/",
          "height": 50
        },
        "outputId": "fd3913a4-5195-4355-e4c6-652a22189228"
      },
      "source": [
        "%cd ns_model_out/en_model-0.0.0\n",
        "!pwd"
      ],
      "execution_count": 32,
      "outputs": [
        {
          "output_type": "stream",
          "text": [
            "/content/ns_model_out/en_model-0.0.0\n",
            "/content/ns_model_out/en_model-0.0.0\n"
          ],
          "name": "stdout"
        }
      ]
    },
    {
      "cell_type": "code",
      "metadata": {
        "id": "eNsEK4w7foYz",
        "colab_type": "code",
        "colab": {
          "base_uri": "https://localhost:8080/",
          "height": 840
        },
        "outputId": "3d38d3fb-84f1-405f-b340-ef771ac91899"
      },
      "source": [
        "!python setup.py sdist"
      ],
      "execution_count": 33,
      "outputs": [
        {
          "output_type": "stream",
          "text": [
            "running sdist\n",
            "running egg_info\n",
            "creating en_model.egg-info\n",
            "writing en_model.egg-info/PKG-INFO\n",
            "writing dependency_links to en_model.egg-info/dependency_links.txt\n",
            "writing requirements to en_model.egg-info/requires.txt\n",
            "writing top-level names to en_model.egg-info/top_level.txt\n",
            "writing manifest file 'en_model.egg-info/SOURCES.txt'\n",
            "reading manifest file 'en_model.egg-info/SOURCES.txt'\n",
            "reading manifest template 'MANIFEST.in'\n",
            "writing manifest file 'en_model.egg-info/SOURCES.txt'\n",
            "warning: sdist: standard file not found: should have one of README, README.rst, README.txt, README.md\n",
            "\n",
            "running check\n",
            "warning: check: missing required meta-data: url\n",
            "\n",
            "warning: check: missing meta-data: either (author and author_email) or (maintainer and maintainer_email) must be supplied\n",
            "\n",
            "creating en_model-0.0.0\n",
            "creating en_model-0.0.0/en_model\n",
            "creating en_model-0.0.0/en_model.egg-info\n",
            "creating en_model-0.0.0/en_model/en_model-0.0.0\n",
            "creating en_model-0.0.0/en_model/en_model-0.0.0/ner\n",
            "creating en_model-0.0.0/en_model/en_model-0.0.0/vocab\n",
            "copying files to en_model-0.0.0...\n",
            "copying MANIFEST.in -> en_model-0.0.0\n",
            "copying meta.json -> en_model-0.0.0\n",
            "copying setup.py -> en_model-0.0.0\n",
            "copying en_model/__init__.py -> en_model-0.0.0/en_model\n",
            "copying en_model/meta.json -> en_model-0.0.0/en_model\n",
            "copying en_model.egg-info/PKG-INFO -> en_model-0.0.0/en_model.egg-info\n",
            "copying en_model.egg-info/SOURCES.txt -> en_model-0.0.0/en_model.egg-info\n",
            "copying en_model.egg-info/dependency_links.txt -> en_model-0.0.0/en_model.egg-info\n",
            "copying en_model.egg-info/not-zip-safe -> en_model-0.0.0/en_model.egg-info\n",
            "copying en_model.egg-info/requires.txt -> en_model-0.0.0/en_model.egg-info\n",
            "copying en_model.egg-info/top_level.txt -> en_model-0.0.0/en_model.egg-info\n",
            "copying en_model/en_model-0.0.0/meta.json -> en_model-0.0.0/en_model/en_model-0.0.0\n",
            "copying en_model/en_model-0.0.0/tokenizer -> en_model-0.0.0/en_model/en_model-0.0.0\n",
            "copying en_model/en_model-0.0.0/ner/cfg -> en_model-0.0.0/en_model/en_model-0.0.0/ner\n",
            "copying en_model/en_model-0.0.0/ner/model -> en_model-0.0.0/en_model/en_model-0.0.0/ner\n",
            "copying en_model/en_model-0.0.0/ner/moves -> en_model-0.0.0/en_model/en_model-0.0.0/ner\n",
            "copying en_model/en_model-0.0.0/vocab/key2row -> en_model-0.0.0/en_model/en_model-0.0.0/vocab\n",
            "copying en_model/en_model-0.0.0/vocab/lexemes.bin -> en_model-0.0.0/en_model/en_model-0.0.0/vocab\n",
            "copying en_model/en_model-0.0.0/vocab/strings.json -> en_model-0.0.0/en_model/en_model-0.0.0/vocab\n",
            "copying en_model/en_model-0.0.0/vocab/vectors -> en_model-0.0.0/en_model/en_model-0.0.0/vocab\n",
            "Writing en_model-0.0.0/setup.cfg\n",
            "creating dist\n",
            "Creating tar archive\n",
            "removing 'en_model-0.0.0' (and everything under it)\n"
          ],
          "name": "stdout"
        }
      ]
    },
    {
      "cell_type": "code",
      "metadata": {
        "id": "j0xiGbsylsIX",
        "colab_type": "code",
        "colab": {
          "base_uri": "https://localhost:8080/",
          "height": 50
        },
        "outputId": "2f2483ff-b6d3-4a6f-c46d-b78492df8934"
      },
      "source": [
        "!pwd\n",
        "!ls dist/en_model-0.0.0.tar.gz"
      ],
      "execution_count": 34,
      "outputs": [
        {
          "output_type": "stream",
          "text": [
            "/content/ns_model_out/en_model-0.0.0\n",
            "dist/en_model-0.0.0.tar.gz\n"
          ],
          "name": "stdout"
        }
      ]
    },
    {
      "cell_type": "code",
      "metadata": {
        "id": "xeNsFUTFBIt9",
        "colab_type": "code",
        "colab": {
          "base_uri": "https://localhost:8080/",
          "height": 507
        },
        "outputId": "63ae50ce-917a-4358-de21-de1838c4918d"
      },
      "source": [
        "!pip install dist/en_model-0.0.0.tar.gz"
      ],
      "execution_count": 35,
      "outputs": [
        {
          "output_type": "stream",
          "text": [
            "Processing ./dist/en_model-0.0.0.tar.gz\n",
            "Requirement already satisfied: spacy>=2.2.4 in /usr/local/lib/python3.6/dist-packages (from en-model==0.0.0) (2.2.4)\n",
            "Requirement already satisfied: preshed<3.1.0,>=3.0.2 in /usr/local/lib/python3.6/dist-packages (from spacy>=2.2.4->en-model==0.0.0) (3.0.2)\n",
            "Requirement already satisfied: wasabi<1.1.0,>=0.4.0 in /usr/local/lib/python3.6/dist-packages (from spacy>=2.2.4->en-model==0.0.0) (0.8.0)\n",
            "Requirement already satisfied: catalogue<1.1.0,>=0.0.7 in /usr/local/lib/python3.6/dist-packages (from spacy>=2.2.4->en-model==0.0.0) (1.0.0)\n",
            "Requirement already satisfied: cymem<2.1.0,>=2.0.2 in /usr/local/lib/python3.6/dist-packages (from spacy>=2.2.4->en-model==0.0.0) (2.0.3)\n",
            "Requirement already satisfied: thinc==7.4.0 in /usr/local/lib/python3.6/dist-packages (from spacy>=2.2.4->en-model==0.0.0) (7.4.0)\n",
            "Requirement already satisfied: setuptools in /usr/local/lib/python3.6/dist-packages (from spacy>=2.2.4->en-model==0.0.0) (50.3.0)\n",
            "Requirement already satisfied: requests<3.0.0,>=2.13.0 in /usr/local/lib/python3.6/dist-packages (from spacy>=2.2.4->en-model==0.0.0) (2.23.0)\n",
            "Requirement already satisfied: tqdm<5.0.0,>=4.38.0 in /usr/local/lib/python3.6/dist-packages (from spacy>=2.2.4->en-model==0.0.0) (4.41.1)\n",
            "Requirement already satisfied: srsly<1.1.0,>=1.0.2 in /usr/local/lib/python3.6/dist-packages (from spacy>=2.2.4->en-model==0.0.0) (1.0.2)\n",
            "Requirement already satisfied: blis<0.5.0,>=0.4.0 in /usr/local/lib/python3.6/dist-packages (from spacy>=2.2.4->en-model==0.0.0) (0.4.1)\n",
            "Requirement already satisfied: numpy>=1.15.0 in /usr/local/lib/python3.6/dist-packages (from spacy>=2.2.4->en-model==0.0.0) (1.18.5)\n",
            "Requirement already satisfied: murmurhash<1.1.0,>=0.28.0 in /usr/local/lib/python3.6/dist-packages (from spacy>=2.2.4->en-model==0.0.0) (1.0.2)\n",
            "Requirement already satisfied: plac<1.2.0,>=0.9.6 in /usr/local/lib/python3.6/dist-packages (from spacy>=2.2.4->en-model==0.0.0) (1.1.3)\n",
            "Requirement already satisfied: importlib-metadata>=0.20; python_version < \"3.8\" in /usr/local/lib/python3.6/dist-packages (from catalogue<1.1.0,>=0.0.7->spacy>=2.2.4->en-model==0.0.0) (1.7.0)\n",
            "Requirement already satisfied: certifi>=2017.4.17 in /usr/local/lib/python3.6/dist-packages (from requests<3.0.0,>=2.13.0->spacy>=2.2.4->en-model==0.0.0) (2020.6.20)\n",
            "Requirement already satisfied: idna<3,>=2.5 in /usr/local/lib/python3.6/dist-packages (from requests<3.0.0,>=2.13.0->spacy>=2.2.4->en-model==0.0.0) (2.10)\n",
            "Requirement already satisfied: chardet<4,>=3.0.2 in /usr/local/lib/python3.6/dist-packages (from requests<3.0.0,>=2.13.0->spacy>=2.2.4->en-model==0.0.0) (3.0.4)\n",
            "Requirement already satisfied: urllib3!=1.25.0,!=1.25.1,<1.26,>=1.21.1 in /usr/local/lib/python3.6/dist-packages (from requests<3.0.0,>=2.13.0->spacy>=2.2.4->en-model==0.0.0) (1.24.3)\n",
            "Requirement already satisfied: zipp>=0.5 in /usr/local/lib/python3.6/dist-packages (from importlib-metadata>=0.20; python_version < \"3.8\"->catalogue<1.1.0,>=0.0.7->spacy>=2.2.4->en-model==0.0.0) (3.1.0)\n",
            "Building wheels for collected packages: en-model\n",
            "  Building wheel for en-model (setup.py) ... \u001b[?25l\u001b[?25hdone\n",
            "  Created wheel for en-model: filename=en_model-0.0.0-cp36-none-any.whl size=4500551 sha256=fb71327111ca0e02c041b0843f02e58bb78868681a27d0185f4044687bfcf799\n",
            "  Stored in directory: /root/.cache/pip/wheels/8a/2e/11/027f59dfa87c6ce585df7d3756f6e161ab1c4cba9806cd4ff8\n",
            "Successfully built en-model\n",
            "Installing collected packages: en-model\n",
            "Successfully installed en-model-0.0.0\n"
          ],
          "name": "stdout"
        }
      ]
    },
    {
      "cell_type": "markdown",
      "metadata": {
        "id": "U6fpU5ch399D",
        "colab_type": "text"
      },
      "source": [
        "# Example with new model"
      ]
    },
    {
      "cell_type": "markdown",
      "metadata": {
        "id": "Mkw6FsV3_KZP",
        "colab_type": "text"
      },
      "source": [
        "Let's try our new ner model"
      ]
    },
    {
      "cell_type": "code",
      "metadata": {
        "id": "Anq6joIhG2rj",
        "colab_type": "code",
        "colab": {}
      },
      "source": [
        "nlp = spacy.load(\"en_model/en_model-0.0.0/\")"
      ],
      "execution_count": 36,
      "outputs": []
    },
    {
      "cell_type": "code",
      "metadata": {
        "id": "eI_KkS8S9FTU",
        "colab_type": "code",
        "colab": {
          "base_uri": "https://localhost:8080/",
          "height": 0
        },
        "outputId": "3c0f7dcf-021a-4687-cadf-ad39aaf16a82"
      },
      "source": [
        "doc = nlp(u'Ronald just bought 2 shares at 9 a.m. because the stock went up 30% in just 2 days according to the WSJ. Us is a country in north America')\n",
        "for ent in doc.ents:\n",
        "    print(ent.text, ent.label_)\n",
        "displacy.render(doc, style='ent', jupyter=True)  "
      ],
      "execution_count": 37,
      "outputs": [
        {
          "output_type": "stream",
          "text": [
            "Ronald PER\n",
            "WSJ ORG\n",
            "Us LOC\n",
            "America LOC\n"
          ],
          "name": "stdout"
        },
        {
          "output_type": "display_data",
          "data": {
            "text/html": [
              "<span class=\"tex2jax_ignore\"><div class=\"entities\" style=\"line-height: 2.5; direction: ltr\">\n",
              "<mark class=\"entity\" style=\"background: #ddd; padding: 0.45em 0.6em; margin: 0 0.25em; line-height: 1; border-radius: 0.35em;\">\n",
              "    Ronald\n",
              "    <span style=\"font-size: 0.8em; font-weight: bold; line-height: 1; border-radius: 0.35em; text-transform: uppercase; vertical-align: middle; margin-left: 0.5rem\">PER</span>\n",
              "</mark>\n",
              " just bought 2 shares at 9 a.m. because the stock went up 30% in just 2 days according to the \n",
              "<mark class=\"entity\" style=\"background: #7aecec; padding: 0.45em 0.6em; margin: 0 0.25em; line-height: 1; border-radius: 0.35em;\">\n",
              "    WSJ\n",
              "    <span style=\"font-size: 0.8em; font-weight: bold; line-height: 1; border-radius: 0.35em; text-transform: uppercase; vertical-align: middle; margin-left: 0.5rem\">ORG</span>\n",
              "</mark>\n",
              ". \n",
              "<mark class=\"entity\" style=\"background: #ff9561; padding: 0.45em 0.6em; margin: 0 0.25em; line-height: 1; border-radius: 0.35em;\">\n",
              "    Us\n",
              "    <span style=\"font-size: 0.8em; font-weight: bold; line-height: 1; border-radius: 0.35em; text-transform: uppercase; vertical-align: middle; margin-left: 0.5rem\">LOC</span>\n",
              "</mark>\n",
              " is a country in north \n",
              "<mark class=\"entity\" style=\"background: #ff9561; padding: 0.45em 0.6em; margin: 0 0.25em; line-height: 1; border-radius: 0.35em;\">\n",
              "    America\n",
              "    <span style=\"font-size: 0.8em; font-weight: bold; line-height: 1; border-radius: 0.35em; text-transform: uppercase; vertical-align: middle; margin-left: 0.5rem\">LOC</span>\n",
              "</mark>\n",
              "</div></span>"
            ],
            "text/plain": [
              "<IPython.core.display.HTML object>"
            ]
          },
          "metadata": {
            "tags": []
          }
        }
      ]
    },
    {
      "cell_type": "markdown",
      "metadata": {
        "id": "bNraojp_48Cx",
        "colab_type": "text"
      },
      "source": [
        "# Download results"
      ]
    },
    {
      "cell_type": "markdown",
      "metadata": {
        "id": "oSpMug8V1Axk",
        "colab_type": "text"
      },
      "source": [
        "Download the resulting model from Colab"
      ]
    },
    {
      "cell_type": "code",
      "metadata": {
        "id": "gfyqIj8Z1pWQ",
        "colab_type": "code",
        "colab": {
          "base_uri": "https://localhost:8080/",
          "height": 0
        },
        "outputId": "0671b98e-8bf3-441e-bd42-6bda6fb706eb"
      },
      "source": [
        "ls dist"
      ],
      "execution_count": 40,
      "outputs": [
        {
          "output_type": "stream",
          "text": [
            "en_model-0.0.0.tar.gz\n"
          ],
          "name": "stdout"
        }
      ]
    },
    {
      "cell_type": "code",
      "metadata": {
        "id": "c7PmciLRl_Z9",
        "colab_type": "code",
        "colab": {
          "base_uri": "https://localhost:8080/",
          "height": 0
        },
        "outputId": "bd7927e5-1c28-4af8-f9d9-5c89d65c446e"
      },
      "source": [
        "from google.colab import files\n",
        "files.download(\"dist/en_model-0.0.0.tar.gz\")"
      ],
      "execution_count": 41,
      "outputs": [
        {
          "output_type": "display_data",
          "data": {
            "application/javascript": [
              "\n",
              "    async function download(id, filename, size) {\n",
              "      if (!google.colab.kernel.accessAllowed) {\n",
              "        return;\n",
              "      }\n",
              "      const div = document.createElement('div');\n",
              "      const label = document.createElement('label');\n",
              "      label.textContent = `Downloading \"${filename}\": `;\n",
              "      div.appendChild(label);\n",
              "      const progress = document.createElement('progress');\n",
              "      progress.max = size;\n",
              "      div.appendChild(progress);\n",
              "      document.body.appendChild(div);\n",
              "\n",
              "      const buffers = [];\n",
              "      let downloaded = 0;\n",
              "\n",
              "      const channel = await google.colab.kernel.comms.open(id);\n",
              "      // Send a message to notify the kernel that we're ready.\n",
              "      channel.send({})\n",
              "\n",
              "      for await (const message of channel.messages) {\n",
              "        // Send a message to notify the kernel that we're ready.\n",
              "        channel.send({})\n",
              "        if (message.buffers) {\n",
              "          for (const buffer of message.buffers) {\n",
              "            buffers.push(buffer);\n",
              "            downloaded += buffer.byteLength;\n",
              "            progress.value = downloaded;\n",
              "          }\n",
              "        }\n",
              "      }\n",
              "      const blob = new Blob(buffers, {type: 'application/binary'});\n",
              "      const a = document.createElement('a');\n",
              "      a.href = window.URL.createObjectURL(blob);\n",
              "      a.download = filename;\n",
              "      div.appendChild(a);\n",
              "      a.click();\n",
              "      div.remove();\n",
              "    }\n",
              "  "
            ],
            "text/plain": [
              "<IPython.core.display.Javascript object>"
            ]
          },
          "metadata": {
            "tags": []
          }
        },
        {
          "output_type": "display_data",
          "data": {
            "application/javascript": [
              "download(\"download_15cb6ad3-e2e5-4137-bec8-54799f6a0fea\", \"en_model-0.0.0.tar.gz\", 4478560)"
            ],
            "text/plain": [
              "<IPython.core.display.Javascript object>"
            ]
          },
          "metadata": {
            "tags": []
          }
        }
      ]
    }
  ]
}